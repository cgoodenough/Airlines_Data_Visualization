{
 "cells": [
  {
   "cell_type": "raw",
   "metadata": {},
   "source": [
    "<script>\n",
    "  function code_toggle() {\n",
    "    if (code_shown){\n",
    "      $('div.input').hide('500');\n",
    "      $('#toggleButton').val('Show Code')\n",
    "    } else {\n",
    "      $('div.input').show('500');\n",
    "      $('#toggleButton').val('Hide Code')\n",
    "    }\n",
    "    code_shown = !code_shown\n",
    "  }\n",
    "\n",
    "  $( document ).ready(function(){\n",
    "    code_shown=false;\n",
    "    $('div.input').hide()\n",
    "  });\n",
    "</script>\n",
    "<form action=\"javascript:code_toggle()\"><input type=\"submit\" id=\"toggleButton\" value=\"Show Code\"></form>"
   ]
  },
  {
   "cell_type": "markdown",
   "metadata": {
    "slideshow": {
     "slide_type": "slide"
    }
   },
   "source": [
    "### Bureau of Transportation Statistics Airline On-time Statistics and Delay Data Analysis\n",
    "## by Cherie Goodenough\n",
    "\n",
    "Demonstrate univariate, bivariate and multivariate data visualization using a large flight delay dataset from the FAA."
   ]
  },
  {
   "cell_type": "markdown",
   "metadata": {
    "slideshow": {
     "slide_type": "skip"
    }
   },
   "source": [
    "\n",
    "\n",
    "## Preliminary Wrangling\n",
    "\n",
    "> The data used in this analysis was downloaded as a csv file from this website: http://stat-computing.org/dataexpo/2009/the-data.html"
   ]
  },
  {
   "cell_type": "code",
   "execution_count": 1,
   "metadata": {
    "slideshow": {
     "slide_type": "skip"
    }
   },
   "outputs": [],
   "source": [
    "# import all packages and set plots to be embedded inline\n",
    "import numpy as np\n",
    "import pandas as pd\n",
    "import matplotlib.pyplot as plt\n",
    "import seaborn as sb\n",
    "\n",
    "%matplotlib inline\n",
    "plt.style.use('fivethirtyeight')"
   ]
  },
  {
   "cell_type": "markdown",
   "metadata": {
    "slideshow": {
     "slide_type": "skip"
    }
   },
   "source": [
    "> Load the datasets as a pandas dataframe"
   ]
  },
  {
   "cell_type": "code",
   "execution_count": 2,
   "metadata": {
    "slideshow": {
     "slide_type": "skip"
    }
   },
   "outputs": [],
   "source": [
    "df2008 = pd.read_csv('2008_flight_data.csv')"
   ]
  },
  {
   "cell_type": "code",
   "execution_count": 3,
   "metadata": {
    "slideshow": {
     "slide_type": "skip"
    }
   },
   "outputs": [],
   "source": [
    "df1998 = pd.read_csv('1998_flight_data.csv')"
   ]
  },
  {
   "cell_type": "markdown",
   "metadata": {
    "slideshow": {
     "slide_type": "skip"
    }
   },
   "source": [
    "First question: do they have the same columns?"
   ]
  },
  {
   "cell_type": "code",
   "execution_count": 4,
   "metadata": {
    "slideshow": {
     "slide_type": "skip"
    }
   },
   "outputs": [],
   "source": [
    "col2008 = df2008.columns.tolist()\n",
    "col1998 = df1998.columns.tolist()"
   ]
  },
  {
   "cell_type": "code",
   "execution_count": 5,
   "metadata": {
    "slideshow": {
     "slide_type": "skip"
    }
   },
   "outputs": [
    {
     "data": {
      "text/plain": [
       "True"
      ]
     },
     "execution_count": 5,
     "metadata": {},
     "output_type": "execute_result"
    }
   ],
   "source": [
    "col2008 == col1998"
   ]
  },
  {
   "cell_type": "code",
   "execution_count": 6,
   "metadata": {
    "slideshow": {
     "slide_type": "skip"
    }
   },
   "outputs": [
    {
     "data": {
      "text/plain": [
       "['Year',\n",
       " 'Month',\n",
       " 'DayofMonth',\n",
       " 'DayOfWeek',\n",
       " 'DepTime',\n",
       " 'CRSDepTime',\n",
       " 'ArrTime',\n",
       " 'CRSArrTime',\n",
       " 'UniqueCarrier',\n",
       " 'FlightNum',\n",
       " 'TailNum',\n",
       " 'ActualElapsedTime',\n",
       " 'CRSElapsedTime',\n",
       " 'AirTime',\n",
       " 'ArrDelay',\n",
       " 'DepDelay',\n",
       " 'Origin',\n",
       " 'Dest',\n",
       " 'Distance',\n",
       " 'TaxiIn',\n",
       " 'TaxiOut',\n",
       " 'Cancelled',\n",
       " 'CancellationCode',\n",
       " 'Diverted',\n",
       " 'CarrierDelay',\n",
       " 'WeatherDelay',\n",
       " 'NASDelay',\n",
       " 'SecurityDelay',\n",
       " 'LateAircraftDelay']"
      ]
     },
     "execution_count": 6,
     "metadata": {},
     "output_type": "execute_result"
    }
   ],
   "source": [
    "col2008"
   ]
  },
  {
   "cell_type": "code",
   "execution_count": 7,
   "metadata": {
    "slideshow": {
     "slide_type": "skip"
    }
   },
   "outputs": [
    {
     "name": "stdout",
     "output_type": "stream",
     "text": [
      "<class 'pandas.core.frame.DataFrame'>\n",
      "RangeIndex: 7009728 entries, 0 to 7009727\n",
      "Data columns (total 29 columns):\n",
      "Year                 int64\n",
      "Month                int64\n",
      "DayofMonth           int64\n",
      "DayOfWeek            int64\n",
      "DepTime              float64\n",
      "CRSDepTime           int64\n",
      "ArrTime              float64\n",
      "CRSArrTime           int64\n",
      "UniqueCarrier        object\n",
      "FlightNum            int64\n",
      "TailNum              object\n",
      "ActualElapsedTime    float64\n",
      "CRSElapsedTime       float64\n",
      "AirTime              float64\n",
      "ArrDelay             float64\n",
      "DepDelay             float64\n",
      "Origin               object\n",
      "Dest                 object\n",
      "Distance             int64\n",
      "TaxiIn               float64\n",
      "TaxiOut              float64\n",
      "Cancelled            int64\n",
      "CancellationCode     object\n",
      "Diverted             int64\n",
      "CarrierDelay         float64\n",
      "WeatherDelay         float64\n",
      "NASDelay             float64\n",
      "SecurityDelay        float64\n",
      "LateAircraftDelay    float64\n",
      "dtypes: float64(14), int64(10), object(5)\n",
      "memory usage: 1.5+ GB\n"
     ]
    }
   ],
   "source": [
    "df2008.info() # Note that not displaying entries is standard behavior for large datasets whose rows exceed\n",
    "            # max_num_rows. See https://github.com/pandas-dev/pandas/issues/6940"
   ]
  },
  {
   "cell_type": "code",
   "execution_count": 8,
   "metadata": {
    "slideshow": {
     "slide_type": "skip"
    }
   },
   "outputs": [],
   "source": [
    "pd.options.display.max_info_rows = 7100000"
   ]
  },
  {
   "cell_type": "code",
   "execution_count": 9,
   "metadata": {
    "slideshow": {
     "slide_type": "skip"
    }
   },
   "outputs": [
    {
     "name": "stdout",
     "output_type": "stream",
     "text": [
      "<class 'pandas.core.frame.DataFrame'>\n",
      "RangeIndex: 7009728 entries, 0 to 7009727\n",
      "Data columns (total 29 columns):\n",
      "Year                 7009728 non-null int64\n",
      "Month                7009728 non-null int64\n",
      "DayofMonth           7009728 non-null int64\n",
      "DayOfWeek            7009728 non-null int64\n",
      "DepTime              6873482 non-null float64\n",
      "CRSDepTime           7009728 non-null int64\n",
      "ArrTime              6858079 non-null float64\n",
      "CRSArrTime           7009728 non-null int64\n",
      "UniqueCarrier        7009728 non-null object\n",
      "FlightNum            7009728 non-null int64\n",
      "TailNum              6926363 non-null object\n",
      "ActualElapsedTime    6855029 non-null float64\n",
      "CRSElapsedTime       7008884 non-null float64\n",
      "AirTime              6855029 non-null float64\n",
      "ArrDelay             6855029 non-null float64\n",
      "DepDelay             6873482 non-null float64\n",
      "Origin               7009728 non-null object\n",
      "Dest                 7009728 non-null object\n",
      "Distance             7009728 non-null int64\n",
      "TaxiIn               6858079 non-null float64\n",
      "TaxiOut              6872670 non-null float64\n",
      "Cancelled            7009728 non-null int64\n",
      "CancellationCode     137434 non-null object\n",
      "Diverted             7009728 non-null int64\n",
      "CarrierDelay         1524735 non-null float64\n",
      "WeatherDelay         1524735 non-null float64\n",
      "NASDelay             1524735 non-null float64\n",
      "SecurityDelay        1524735 non-null float64\n",
      "LateAircraftDelay    1524735 non-null float64\n",
      "dtypes: float64(14), int64(10), object(5)\n",
      "memory usage: 1.5+ GB\n"
     ]
    }
   ],
   "source": [
    "df2008.info()"
   ]
  },
  {
   "cell_type": "code",
   "execution_count": 10,
   "metadata": {
    "slideshow": {
     "slide_type": "skip"
    }
   },
   "outputs": [
    {
     "name": "stdout",
     "output_type": "stream",
     "text": [
      "<class 'pandas.core.frame.DataFrame'>\n",
      "RangeIndex: 5384721 entries, 0 to 5384720\n",
      "Data columns (total 29 columns):\n",
      "Year                 5384721 non-null int64\n",
      "Month                5384721 non-null int64\n",
      "DayofMonth           5384721 non-null int64\n",
      "DayOfWeek            5384721 non-null int64\n",
      "DepTime              5240212 non-null float64\n",
      "CRSDepTime           5384721 non-null int64\n",
      "ArrTime              5227051 non-null float64\n",
      "CRSArrTime           5384721 non-null int64\n",
      "UniqueCarrier        5384721 non-null object\n",
      "FlightNum            5384721 non-null int64\n",
      "TailNum              5384721 non-null object\n",
      "ActualElapsedTime    5227051 non-null float64\n",
      "CRSElapsedTime       5382335 non-null float64\n",
      "AirTime              5227051 non-null float64\n",
      "ArrDelay             5227051 non-null float64\n",
      "DepDelay             5240212 non-null float64\n",
      "Origin               5384721 non-null object\n",
      "Dest                 5384721 non-null object\n",
      "Distance             5384721 non-null int64\n",
      "TaxiIn               5384721 non-null int64\n",
      "TaxiOut              5384721 non-null int64\n",
      "Cancelled            5384721 non-null int64\n",
      "CancellationCode     0 non-null float64\n",
      "Diverted             5384721 non-null int64\n",
      "CarrierDelay         0 non-null float64\n",
      "WeatherDelay         0 non-null float64\n",
      "NASDelay             0 non-null float64\n",
      "SecurityDelay        0 non-null float64\n",
      "LateAircraftDelay    0 non-null float64\n",
      "dtypes: float64(13), int64(12), object(4)\n",
      "memory usage: 1.2+ GB\n"
     ]
    }
   ],
   "source": [
    "df1998.info()"
   ]
  },
  {
   "cell_type": "code",
   "execution_count": 11,
   "metadata": {
    "scrolled": true,
    "slideshow": {
     "slide_type": "skip"
    }
   },
   "outputs": [],
   "source": [
    "dfcols = pd.read_csv('column_descriptions.csv') # needed to save UTF-8 not standard csv"
   ]
  },
  {
   "cell_type": "code",
   "execution_count": 12,
   "metadata": {
    "slideshow": {
     "slide_type": "slide"
    }
   },
   "outputs": [
    {
     "data": {
      "text/html": [
       "<div>\n",
       "<style scoped>\n",
       "    .dataframe tbody tr th:only-of-type {\n",
       "        vertical-align: middle;\n",
       "    }\n",
       "\n",
       "    .dataframe tbody tr th {\n",
       "        vertical-align: top;\n",
       "    }\n",
       "\n",
       "    .dataframe thead th {\n",
       "        text-align: right;\n",
       "    }\n",
       "</style>\n",
       "<table border=\"1\" class=\"dataframe\">\n",
       "  <thead>\n",
       "    <tr style=\"text-align: right;\">\n",
       "      <th></th>\n",
       "      <th>Year</th>\n",
       "      <th>Month</th>\n",
       "      <th>DayofMonth</th>\n",
       "      <th>DayOfWeek</th>\n",
       "      <th>DepTime</th>\n",
       "      <th>CRSDepTime</th>\n",
       "      <th>ArrTime</th>\n",
       "      <th>CRSArrTime</th>\n",
       "      <th>UniqueCarrier</th>\n",
       "      <th>FlightNum</th>\n",
       "      <th>...</th>\n",
       "      <th>TaxiIn</th>\n",
       "      <th>TaxiOut</th>\n",
       "      <th>Cancelled</th>\n",
       "      <th>CancellationCode</th>\n",
       "      <th>Diverted</th>\n",
       "      <th>CarrierDelay</th>\n",
       "      <th>WeatherDelay</th>\n",
       "      <th>NASDelay</th>\n",
       "      <th>SecurityDelay</th>\n",
       "      <th>LateAircraftDelay</th>\n",
       "    </tr>\n",
       "  </thead>\n",
       "  <tbody>\n",
       "    <tr>\n",
       "      <th>0</th>\n",
       "      <td>2008</td>\n",
       "      <td>1</td>\n",
       "      <td>3</td>\n",
       "      <td>4</td>\n",
       "      <td>2003.0</td>\n",
       "      <td>1955</td>\n",
       "      <td>2211.0</td>\n",
       "      <td>2225</td>\n",
       "      <td>WN</td>\n",
       "      <td>335</td>\n",
       "      <td>...</td>\n",
       "      <td>4.0</td>\n",
       "      <td>8.0</td>\n",
       "      <td>0</td>\n",
       "      <td>NaN</td>\n",
       "      <td>0</td>\n",
       "      <td>NaN</td>\n",
       "      <td>NaN</td>\n",
       "      <td>NaN</td>\n",
       "      <td>NaN</td>\n",
       "      <td>NaN</td>\n",
       "    </tr>\n",
       "    <tr>\n",
       "      <th>1</th>\n",
       "      <td>2008</td>\n",
       "      <td>1</td>\n",
       "      <td>3</td>\n",
       "      <td>4</td>\n",
       "      <td>754.0</td>\n",
       "      <td>735</td>\n",
       "      <td>1002.0</td>\n",
       "      <td>1000</td>\n",
       "      <td>WN</td>\n",
       "      <td>3231</td>\n",
       "      <td>...</td>\n",
       "      <td>5.0</td>\n",
       "      <td>10.0</td>\n",
       "      <td>0</td>\n",
       "      <td>NaN</td>\n",
       "      <td>0</td>\n",
       "      <td>NaN</td>\n",
       "      <td>NaN</td>\n",
       "      <td>NaN</td>\n",
       "      <td>NaN</td>\n",
       "      <td>NaN</td>\n",
       "    </tr>\n",
       "    <tr>\n",
       "      <th>2</th>\n",
       "      <td>2008</td>\n",
       "      <td>1</td>\n",
       "      <td>3</td>\n",
       "      <td>4</td>\n",
       "      <td>628.0</td>\n",
       "      <td>620</td>\n",
       "      <td>804.0</td>\n",
       "      <td>750</td>\n",
       "      <td>WN</td>\n",
       "      <td>448</td>\n",
       "      <td>...</td>\n",
       "      <td>3.0</td>\n",
       "      <td>17.0</td>\n",
       "      <td>0</td>\n",
       "      <td>NaN</td>\n",
       "      <td>0</td>\n",
       "      <td>NaN</td>\n",
       "      <td>NaN</td>\n",
       "      <td>NaN</td>\n",
       "      <td>NaN</td>\n",
       "      <td>NaN</td>\n",
       "    </tr>\n",
       "    <tr>\n",
       "      <th>3</th>\n",
       "      <td>2008</td>\n",
       "      <td>1</td>\n",
       "      <td>3</td>\n",
       "      <td>4</td>\n",
       "      <td>926.0</td>\n",
       "      <td>930</td>\n",
       "      <td>1054.0</td>\n",
       "      <td>1100</td>\n",
       "      <td>WN</td>\n",
       "      <td>1746</td>\n",
       "      <td>...</td>\n",
       "      <td>3.0</td>\n",
       "      <td>7.0</td>\n",
       "      <td>0</td>\n",
       "      <td>NaN</td>\n",
       "      <td>0</td>\n",
       "      <td>NaN</td>\n",
       "      <td>NaN</td>\n",
       "      <td>NaN</td>\n",
       "      <td>NaN</td>\n",
       "      <td>NaN</td>\n",
       "    </tr>\n",
       "    <tr>\n",
       "      <th>4</th>\n",
       "      <td>2008</td>\n",
       "      <td>1</td>\n",
       "      <td>3</td>\n",
       "      <td>4</td>\n",
       "      <td>1829.0</td>\n",
       "      <td>1755</td>\n",
       "      <td>1959.0</td>\n",
       "      <td>1925</td>\n",
       "      <td>WN</td>\n",
       "      <td>3920</td>\n",
       "      <td>...</td>\n",
       "      <td>3.0</td>\n",
       "      <td>10.0</td>\n",
       "      <td>0</td>\n",
       "      <td>NaN</td>\n",
       "      <td>0</td>\n",
       "      <td>2.0</td>\n",
       "      <td>0.0</td>\n",
       "      <td>0.0</td>\n",
       "      <td>0.0</td>\n",
       "      <td>32.0</td>\n",
       "    </tr>\n",
       "    <tr>\n",
       "      <th>5</th>\n",
       "      <td>2008</td>\n",
       "      <td>1</td>\n",
       "      <td>3</td>\n",
       "      <td>4</td>\n",
       "      <td>1940.0</td>\n",
       "      <td>1915</td>\n",
       "      <td>2121.0</td>\n",
       "      <td>2110</td>\n",
       "      <td>WN</td>\n",
       "      <td>378</td>\n",
       "      <td>...</td>\n",
       "      <td>4.0</td>\n",
       "      <td>10.0</td>\n",
       "      <td>0</td>\n",
       "      <td>NaN</td>\n",
       "      <td>0</td>\n",
       "      <td>NaN</td>\n",
       "      <td>NaN</td>\n",
       "      <td>NaN</td>\n",
       "      <td>NaN</td>\n",
       "      <td>NaN</td>\n",
       "    </tr>\n",
       "    <tr>\n",
       "      <th>6</th>\n",
       "      <td>2008</td>\n",
       "      <td>1</td>\n",
       "      <td>3</td>\n",
       "      <td>4</td>\n",
       "      <td>1937.0</td>\n",
       "      <td>1830</td>\n",
       "      <td>2037.0</td>\n",
       "      <td>1940</td>\n",
       "      <td>WN</td>\n",
       "      <td>509</td>\n",
       "      <td>...</td>\n",
       "      <td>3.0</td>\n",
       "      <td>7.0</td>\n",
       "      <td>0</td>\n",
       "      <td>NaN</td>\n",
       "      <td>0</td>\n",
       "      <td>10.0</td>\n",
       "      <td>0.0</td>\n",
       "      <td>0.0</td>\n",
       "      <td>0.0</td>\n",
       "      <td>47.0</td>\n",
       "    </tr>\n",
       "    <tr>\n",
       "      <th>7</th>\n",
       "      <td>2008</td>\n",
       "      <td>1</td>\n",
       "      <td>3</td>\n",
       "      <td>4</td>\n",
       "      <td>1039.0</td>\n",
       "      <td>1040</td>\n",
       "      <td>1132.0</td>\n",
       "      <td>1150</td>\n",
       "      <td>WN</td>\n",
       "      <td>535</td>\n",
       "      <td>...</td>\n",
       "      <td>7.0</td>\n",
       "      <td>7.0</td>\n",
       "      <td>0</td>\n",
       "      <td>NaN</td>\n",
       "      <td>0</td>\n",
       "      <td>NaN</td>\n",
       "      <td>NaN</td>\n",
       "      <td>NaN</td>\n",
       "      <td>NaN</td>\n",
       "      <td>NaN</td>\n",
       "    </tr>\n",
       "    <tr>\n",
       "      <th>8</th>\n",
       "      <td>2008</td>\n",
       "      <td>1</td>\n",
       "      <td>3</td>\n",
       "      <td>4</td>\n",
       "      <td>617.0</td>\n",
       "      <td>615</td>\n",
       "      <td>652.0</td>\n",
       "      <td>650</td>\n",
       "      <td>WN</td>\n",
       "      <td>11</td>\n",
       "      <td>...</td>\n",
       "      <td>6.0</td>\n",
       "      <td>19.0</td>\n",
       "      <td>0</td>\n",
       "      <td>NaN</td>\n",
       "      <td>0</td>\n",
       "      <td>NaN</td>\n",
       "      <td>NaN</td>\n",
       "      <td>NaN</td>\n",
       "      <td>NaN</td>\n",
       "      <td>NaN</td>\n",
       "    </tr>\n",
       "    <tr>\n",
       "      <th>9</th>\n",
       "      <td>2008</td>\n",
       "      <td>1</td>\n",
       "      <td>3</td>\n",
       "      <td>4</td>\n",
       "      <td>1620.0</td>\n",
       "      <td>1620</td>\n",
       "      <td>1639.0</td>\n",
       "      <td>1655</td>\n",
       "      <td>WN</td>\n",
       "      <td>810</td>\n",
       "      <td>...</td>\n",
       "      <td>3.0</td>\n",
       "      <td>6.0</td>\n",
       "      <td>0</td>\n",
       "      <td>NaN</td>\n",
       "      <td>0</td>\n",
       "      <td>NaN</td>\n",
       "      <td>NaN</td>\n",
       "      <td>NaN</td>\n",
       "      <td>NaN</td>\n",
       "      <td>NaN</td>\n",
       "    </tr>\n",
       "  </tbody>\n",
       "</table>\n",
       "<p>10 rows × 29 columns</p>\n",
       "</div>"
      ],
      "text/plain": [
       "   Year  Month  DayofMonth  DayOfWeek  DepTime  CRSDepTime  ArrTime  \\\n",
       "0  2008      1           3          4   2003.0        1955   2211.0   \n",
       "1  2008      1           3          4    754.0         735   1002.0   \n",
       "2  2008      1           3          4    628.0         620    804.0   \n",
       "3  2008      1           3          4    926.0         930   1054.0   \n",
       "4  2008      1           3          4   1829.0        1755   1959.0   \n",
       "5  2008      1           3          4   1940.0        1915   2121.0   \n",
       "6  2008      1           3          4   1937.0        1830   2037.0   \n",
       "7  2008      1           3          4   1039.0        1040   1132.0   \n",
       "8  2008      1           3          4    617.0         615    652.0   \n",
       "9  2008      1           3          4   1620.0        1620   1639.0   \n",
       "\n",
       "   CRSArrTime UniqueCarrier  FlightNum        ...         TaxiIn  TaxiOut  \\\n",
       "0        2225            WN        335        ...            4.0      8.0   \n",
       "1        1000            WN       3231        ...            5.0     10.0   \n",
       "2         750            WN        448        ...            3.0     17.0   \n",
       "3        1100            WN       1746        ...            3.0      7.0   \n",
       "4        1925            WN       3920        ...            3.0     10.0   \n",
       "5        2110            WN        378        ...            4.0     10.0   \n",
       "6        1940            WN        509        ...            3.0      7.0   \n",
       "7        1150            WN        535        ...            7.0      7.0   \n",
       "8         650            WN         11        ...            6.0     19.0   \n",
       "9        1655            WN        810        ...            3.0      6.0   \n",
       "\n",
       "   Cancelled  CancellationCode  Diverted  CarrierDelay WeatherDelay NASDelay  \\\n",
       "0          0               NaN         0           NaN          NaN      NaN   \n",
       "1          0               NaN         0           NaN          NaN      NaN   \n",
       "2          0               NaN         0           NaN          NaN      NaN   \n",
       "3          0               NaN         0           NaN          NaN      NaN   \n",
       "4          0               NaN         0           2.0          0.0      0.0   \n",
       "5          0               NaN         0           NaN          NaN      NaN   \n",
       "6          0               NaN         0          10.0          0.0      0.0   \n",
       "7          0               NaN         0           NaN          NaN      NaN   \n",
       "8          0               NaN         0           NaN          NaN      NaN   \n",
       "9          0               NaN         0           NaN          NaN      NaN   \n",
       "\n",
       "   SecurityDelay  LateAircraftDelay  \n",
       "0            NaN                NaN  \n",
       "1            NaN                NaN  \n",
       "2            NaN                NaN  \n",
       "3            NaN                NaN  \n",
       "4            0.0               32.0  \n",
       "5            NaN                NaN  \n",
       "6            0.0               47.0  \n",
       "7            NaN                NaN  \n",
       "8            NaN                NaN  \n",
       "9            NaN                NaN  \n",
       "\n",
       "[10 rows x 29 columns]"
      ]
     },
     "execution_count": 12,
     "metadata": {},
     "output_type": "execute_result"
    }
   ],
   "source": [
    "df2008.head(10)"
   ]
  },
  {
   "cell_type": "code",
   "execution_count": 13,
   "metadata": {
    "slideshow": {
     "slide_type": "skip"
    }
   },
   "outputs": [
    {
     "data": {
      "text/plain": [
       "20"
      ]
     },
     "execution_count": 13,
     "metadata": {},
     "output_type": "execute_result"
    }
   ],
   "source": [
    "len(df2008.UniqueCarrier.unique())"
   ]
  },
  {
   "cell_type": "code",
   "execution_count": 14,
   "metadata": {
    "slideshow": {
     "slide_type": "skip"
    }
   },
   "outputs": [
    {
     "data": {
      "text/html": [
       "<div>\n",
       "<style scoped>\n",
       "    .dataframe tbody tr th:only-of-type {\n",
       "        vertical-align: middle;\n",
       "    }\n",
       "\n",
       "    .dataframe tbody tr th {\n",
       "        vertical-align: top;\n",
       "    }\n",
       "\n",
       "    .dataframe thead th {\n",
       "        text-align: right;\n",
       "    }\n",
       "</style>\n",
       "<table border=\"1\" class=\"dataframe\">\n",
       "  <thead>\n",
       "    <tr style=\"text-align: right;\">\n",
       "      <th></th>\n",
       "      <th>Year</th>\n",
       "      <th>Month</th>\n",
       "      <th>DayofMonth</th>\n",
       "      <th>DayOfWeek</th>\n",
       "      <th>DepTime</th>\n",
       "      <th>CRSDepTime</th>\n",
       "      <th>ArrTime</th>\n",
       "      <th>CRSArrTime</th>\n",
       "      <th>UniqueCarrier</th>\n",
       "      <th>FlightNum</th>\n",
       "      <th>...</th>\n",
       "      <th>TaxiIn</th>\n",
       "      <th>TaxiOut</th>\n",
       "      <th>Cancelled</th>\n",
       "      <th>CancellationCode</th>\n",
       "      <th>Diverted</th>\n",
       "      <th>CarrierDelay</th>\n",
       "      <th>WeatherDelay</th>\n",
       "      <th>NASDelay</th>\n",
       "      <th>SecurityDelay</th>\n",
       "      <th>LateAircraftDelay</th>\n",
       "    </tr>\n",
       "  </thead>\n",
       "  <tbody>\n",
       "    <tr>\n",
       "      <th>0</th>\n",
       "      <td>1998</td>\n",
       "      <td>1</td>\n",
       "      <td>17</td>\n",
       "      <td>6</td>\n",
       "      <td>715.0</td>\n",
       "      <td>715</td>\n",
       "      <td>840.0</td>\n",
       "      <td>840</td>\n",
       "      <td>WN</td>\n",
       "      <td>76</td>\n",
       "      <td>...</td>\n",
       "      <td>3</td>\n",
       "      <td>5</td>\n",
       "      <td>0</td>\n",
       "      <td>NaN</td>\n",
       "      <td>0</td>\n",
       "      <td>NaN</td>\n",
       "      <td>NaN</td>\n",
       "      <td>NaN</td>\n",
       "      <td>NaN</td>\n",
       "      <td>NaN</td>\n",
       "    </tr>\n",
       "    <tr>\n",
       "      <th>1</th>\n",
       "      <td>1998</td>\n",
       "      <td>1</td>\n",
       "      <td>18</td>\n",
       "      <td>7</td>\n",
       "      <td>715.0</td>\n",
       "      <td>715</td>\n",
       "      <td>830.0</td>\n",
       "      <td>840</td>\n",
       "      <td>WN</td>\n",
       "      <td>76</td>\n",
       "      <td>...</td>\n",
       "      <td>2</td>\n",
       "      <td>6</td>\n",
       "      <td>0</td>\n",
       "      <td>NaN</td>\n",
       "      <td>0</td>\n",
       "      <td>NaN</td>\n",
       "      <td>NaN</td>\n",
       "      <td>NaN</td>\n",
       "      <td>NaN</td>\n",
       "      <td>NaN</td>\n",
       "    </tr>\n",
       "    <tr>\n",
       "      <th>2</th>\n",
       "      <td>1998</td>\n",
       "      <td>1</td>\n",
       "      <td>19</td>\n",
       "      <td>1</td>\n",
       "      <td>715.0</td>\n",
       "      <td>715</td>\n",
       "      <td>831.0</td>\n",
       "      <td>840</td>\n",
       "      <td>WN</td>\n",
       "      <td>76</td>\n",
       "      <td>...</td>\n",
       "      <td>3</td>\n",
       "      <td>5</td>\n",
       "      <td>0</td>\n",
       "      <td>NaN</td>\n",
       "      <td>0</td>\n",
       "      <td>NaN</td>\n",
       "      <td>NaN</td>\n",
       "      <td>NaN</td>\n",
       "      <td>NaN</td>\n",
       "      <td>NaN</td>\n",
       "    </tr>\n",
       "    <tr>\n",
       "      <th>3</th>\n",
       "      <td>1998</td>\n",
       "      <td>1</td>\n",
       "      <td>20</td>\n",
       "      <td>2</td>\n",
       "      <td>715.0</td>\n",
       "      <td>715</td>\n",
       "      <td>836.0</td>\n",
       "      <td>840</td>\n",
       "      <td>WN</td>\n",
       "      <td>76</td>\n",
       "      <td>...</td>\n",
       "      <td>3</td>\n",
       "      <td>12</td>\n",
       "      <td>0</td>\n",
       "      <td>NaN</td>\n",
       "      <td>0</td>\n",
       "      <td>NaN</td>\n",
       "      <td>NaN</td>\n",
       "      <td>NaN</td>\n",
       "      <td>NaN</td>\n",
       "      <td>NaN</td>\n",
       "    </tr>\n",
       "    <tr>\n",
       "      <th>4</th>\n",
       "      <td>1998</td>\n",
       "      <td>1</td>\n",
       "      <td>21</td>\n",
       "      <td>3</td>\n",
       "      <td>715.0</td>\n",
       "      <td>715</td>\n",
       "      <td>836.0</td>\n",
       "      <td>840</td>\n",
       "      <td>WN</td>\n",
       "      <td>76</td>\n",
       "      <td>...</td>\n",
       "      <td>3</td>\n",
       "      <td>6</td>\n",
       "      <td>0</td>\n",
       "      <td>NaN</td>\n",
       "      <td>0</td>\n",
       "      <td>NaN</td>\n",
       "      <td>NaN</td>\n",
       "      <td>NaN</td>\n",
       "      <td>NaN</td>\n",
       "      <td>NaN</td>\n",
       "    </tr>\n",
       "  </tbody>\n",
       "</table>\n",
       "<p>5 rows × 29 columns</p>\n",
       "</div>"
      ],
      "text/plain": [
       "   Year  Month  DayofMonth  DayOfWeek  DepTime  CRSDepTime  ArrTime  \\\n",
       "0  1998      1          17          6    715.0         715    840.0   \n",
       "1  1998      1          18          7    715.0         715    830.0   \n",
       "2  1998      1          19          1    715.0         715    831.0   \n",
       "3  1998      1          20          2    715.0         715    836.0   \n",
       "4  1998      1          21          3    715.0         715    836.0   \n",
       "\n",
       "   CRSArrTime UniqueCarrier  FlightNum        ...         TaxiIn  TaxiOut  \\\n",
       "0         840            WN         76        ...              3        5   \n",
       "1         840            WN         76        ...              2        6   \n",
       "2         840            WN         76        ...              3        5   \n",
       "3         840            WN         76        ...              3       12   \n",
       "4         840            WN         76        ...              3        6   \n",
       "\n",
       "   Cancelled  CancellationCode  Diverted  CarrierDelay WeatherDelay NASDelay  \\\n",
       "0          0               NaN         0           NaN          NaN      NaN   \n",
       "1          0               NaN         0           NaN          NaN      NaN   \n",
       "2          0               NaN         0           NaN          NaN      NaN   \n",
       "3          0               NaN         0           NaN          NaN      NaN   \n",
       "4          0               NaN         0           NaN          NaN      NaN   \n",
       "\n",
       "   SecurityDelay  LateAircraftDelay  \n",
       "0            NaN                NaN  \n",
       "1            NaN                NaN  \n",
       "2            NaN                NaN  \n",
       "3            NaN                NaN  \n",
       "4            NaN                NaN  \n",
       "\n",
       "[5 rows x 29 columns]"
      ]
     },
     "execution_count": 14,
     "metadata": {},
     "output_type": "execute_result"
    }
   ],
   "source": [
    "df1998.head()"
   ]
  },
  {
   "cell_type": "markdown",
   "metadata": {
    "slideshow": {
     "slide_type": "slide"
    }
   },
   "source": [
    "### Structure of dataset\n",
    "\n",
    "> The data consist of two csv files with 29 columns, described below. The files are quite large, with 5M+ rows of observations per year. Note that the 1998 dataset does not have information on the reason for the delays that is present in the 2008 dataset.\n",
    "\n",
    "### Main feature(s) of interest\n",
    "\n",
    "> There are a lot of interesting features in this data. Investigations into delays as a function of time of day, day of the week, month, departure and arrival airports, carrier, and scheduled flight time (scheduled arrival minus scheduled departure) could all produce interesting analysis. Having data for two years a decade apart allows for the investigation of long-term changes in delays.\n",
    "\n",
    "### What features in the dataset do you think will help support your investigation into your feature(s) of interest?\n",
    "\n",
    "> For this visualization, I will compare overall delays and by airline to look for changes in the decade between 1998 and 2008.\n",
    "\n",
    "Note that <a href=\"https://aspmhelp.faa.gov/index.php/Types_of_Delay\" target=\"_blank\">\"NAS Delay. Delay that is within the control of the National Airspace System (NAS) may include: non-extreme weather conditions, airport operations, heavy traffic volume, air traffic control, etc. Delays that occur after Actual Gate Out are usually attributed to the NAS and are also reported through OPSNET.\"</a>"
   ]
  },
  {
   "cell_type": "markdown",
   "metadata": {
    "slideshow": {
     "slide_type": "skip"
    }
   },
   "source": [
    "### Column descriptions:"
   ]
  },
  {
   "cell_type": "code",
   "execution_count": 15,
   "metadata": {
    "slideshow": {
     "slide_type": "slide"
    }
   },
   "outputs": [
    {
     "data": {
      "text/html": [
       "<div>\n",
       "<style scoped>\n",
       "    .dataframe tbody tr th:only-of-type {\n",
       "        vertical-align: middle;\n",
       "    }\n",
       "\n",
       "    .dataframe tbody tr th {\n",
       "        vertical-align: top;\n",
       "    }\n",
       "\n",
       "    .dataframe thead th {\n",
       "        text-align: right;\n",
       "    }\n",
       "</style>\n",
       "<table border=\"1\" class=\"dataframe\">\n",
       "  <thead>\n",
       "    <tr style=\"text-align: right;\">\n",
       "      <th></th>\n",
       "      <th>Name</th>\n",
       "      <th>Description</th>\n",
       "    </tr>\n",
       "  </thead>\n",
       "  <tbody>\n",
       "    <tr>\n",
       "      <th>0</th>\n",
       "      <td>Year</td>\n",
       "      <td>1987-2008</td>\n",
       "    </tr>\n",
       "    <tr>\n",
       "      <th>1</th>\n",
       "      <td>Month</td>\n",
       "      <td>12-Jan</td>\n",
       "    </tr>\n",
       "    <tr>\n",
       "      <th>2</th>\n",
       "      <td>DayofMonth</td>\n",
       "      <td>31-Jan</td>\n",
       "    </tr>\n",
       "    <tr>\n",
       "      <th>3</th>\n",
       "      <td>DayOfWeek</td>\n",
       "      <td>1 (Monday) - 7 (Sunday)</td>\n",
       "    </tr>\n",
       "    <tr>\n",
       "      <th>4</th>\n",
       "      <td>DepTime</td>\n",
       "      <td>actual departure time (local, hhmm)</td>\n",
       "    </tr>\n",
       "    <tr>\n",
       "      <th>5</th>\n",
       "      <td>CRSDepTime</td>\n",
       "      <td>scheduled departure time (local, hhmm)</td>\n",
       "    </tr>\n",
       "    <tr>\n",
       "      <th>6</th>\n",
       "      <td>ArrTime</td>\n",
       "      <td>actual arrival time (local, hhmm)</td>\n",
       "    </tr>\n",
       "    <tr>\n",
       "      <th>7</th>\n",
       "      <td>CRSArrTime</td>\n",
       "      <td>scheduled arrival time (local, hhmm)</td>\n",
       "    </tr>\n",
       "    <tr>\n",
       "      <th>8</th>\n",
       "      <td>UniqueCarrier</td>\n",
       "      <td>unique carrier code</td>\n",
       "    </tr>\n",
       "    <tr>\n",
       "      <th>9</th>\n",
       "      <td>FlightNum</td>\n",
       "      <td>flight number</td>\n",
       "    </tr>\n",
       "    <tr>\n",
       "      <th>10</th>\n",
       "      <td>TailNum</td>\n",
       "      <td>plane tail number</td>\n",
       "    </tr>\n",
       "    <tr>\n",
       "      <th>11</th>\n",
       "      <td>ActualElapsedTime</td>\n",
       "      <td>in minutes</td>\n",
       "    </tr>\n",
       "    <tr>\n",
       "      <th>12</th>\n",
       "      <td>CRSElapsedTime</td>\n",
       "      <td>in minutes</td>\n",
       "    </tr>\n",
       "    <tr>\n",
       "      <th>13</th>\n",
       "      <td>AirTime</td>\n",
       "      <td>in minutes</td>\n",
       "    </tr>\n",
       "    <tr>\n",
       "      <th>14</th>\n",
       "      <td>ArrDelay</td>\n",
       "      <td>arrival delay, in minutes</td>\n",
       "    </tr>\n",
       "    <tr>\n",
       "      <th>15</th>\n",
       "      <td>DepDelay</td>\n",
       "      <td>departure delay, in minutes</td>\n",
       "    </tr>\n",
       "    <tr>\n",
       "      <th>16</th>\n",
       "      <td>Origin</td>\n",
       "      <td>origin IATA airport code</td>\n",
       "    </tr>\n",
       "    <tr>\n",
       "      <th>17</th>\n",
       "      <td>Dest</td>\n",
       "      <td>destination IATA airport code</td>\n",
       "    </tr>\n",
       "    <tr>\n",
       "      <th>18</th>\n",
       "      <td>Distance</td>\n",
       "      <td>in miles</td>\n",
       "    </tr>\n",
       "    <tr>\n",
       "      <th>19</th>\n",
       "      <td>TaxiIn</td>\n",
       "      <td>taxi in time, in minutes</td>\n",
       "    </tr>\n",
       "    <tr>\n",
       "      <th>20</th>\n",
       "      <td>TaxiOut</td>\n",
       "      <td>taxi out time in minutes</td>\n",
       "    </tr>\n",
       "    <tr>\n",
       "      <th>21</th>\n",
       "      <td>Cancelled</td>\n",
       "      <td>was the flight cancelled?</td>\n",
       "    </tr>\n",
       "    <tr>\n",
       "      <th>22</th>\n",
       "      <td>CancellationCode</td>\n",
       "      <td>reason for cancellation (A = carrier, B = weather, C = NAS, D = security)</td>\n",
       "    </tr>\n",
       "    <tr>\n",
       "      <th>23</th>\n",
       "      <td>Diverted</td>\n",
       "      <td>1 = yes, 0 = no</td>\n",
       "    </tr>\n",
       "    <tr>\n",
       "      <th>24</th>\n",
       "      <td>CarrierDelay</td>\n",
       "      <td>in minutes</td>\n",
       "    </tr>\n",
       "    <tr>\n",
       "      <th>25</th>\n",
       "      <td>WeatherDelay</td>\n",
       "      <td>in minutes</td>\n",
       "    </tr>\n",
       "    <tr>\n",
       "      <th>26</th>\n",
       "      <td>NASDelay</td>\n",
       "      <td>in minutes</td>\n",
       "    </tr>\n",
       "    <tr>\n",
       "      <th>27</th>\n",
       "      <td>SecurityDelay</td>\n",
       "      <td>in minutes</td>\n",
       "    </tr>\n",
       "    <tr>\n",
       "      <th>28</th>\n",
       "      <td>LateAircraftDelay</td>\n",
       "      <td>in minutes</td>\n",
       "    </tr>\n",
       "  </tbody>\n",
       "</table>\n",
       "</div>"
      ],
      "text/plain": [
       "                 Name  \\\n",
       "0   Year                \n",
       "1   Month               \n",
       "2   DayofMonth          \n",
       "3   DayOfWeek           \n",
       "4   DepTime             \n",
       "5   CRSDepTime          \n",
       "6   ArrTime             \n",
       "7   CRSArrTime          \n",
       "8   UniqueCarrier       \n",
       "9   FlightNum           \n",
       "10  TailNum             \n",
       "11  ActualElapsedTime   \n",
       "12  CRSElapsedTime      \n",
       "13  AirTime             \n",
       "14  ArrDelay            \n",
       "15  DepDelay            \n",
       "16  Origin              \n",
       "17  Dest                \n",
       "18  Distance            \n",
       "19  TaxiIn              \n",
       "20  TaxiOut             \n",
       "21  Cancelled           \n",
       "22  CancellationCode    \n",
       "23  Diverted            \n",
       "24  CarrierDelay        \n",
       "25  WeatherDelay        \n",
       "26  NASDelay            \n",
       "27  SecurityDelay       \n",
       "28  LateAircraftDelay   \n",
       "\n",
       "                                                                  Description  \n",
       "0   1987-2008                                                                  \n",
       "1   12-Jan                                                                     \n",
       "2   31-Jan                                                                     \n",
       "3   1 (Monday) - 7 (Sunday)                                                    \n",
       "4   actual departure time (local, hhmm)                                        \n",
       "5   scheduled departure time (local, hhmm)                                     \n",
       "6   actual arrival time (local, hhmm)                                          \n",
       "7   scheduled arrival time (local, hhmm)                                       \n",
       "8   unique carrier code                                                        \n",
       "9   flight number                                                              \n",
       "10  plane tail number                                                          \n",
       "11  in minutes                                                                 \n",
       "12  in minutes                                                                 \n",
       "13  in minutes                                                                 \n",
       "14  arrival delay, in minutes                                                  \n",
       "15  departure delay, in minutes                                                \n",
       "16  origin IATA airport code                                                   \n",
       "17  destination IATA airport code                                              \n",
       "18  in miles                                                                   \n",
       "19  taxi in time, in minutes                                                   \n",
       "20  taxi out time in minutes                                                   \n",
       "21  was the flight cancelled?                                                  \n",
       "22  reason for cancellation (A = carrier, B = weather, C = NAS, D = security)  \n",
       "23  1 = yes, 0 = no                                                            \n",
       "24  in minutes                                                                 \n",
       "25  in minutes                                                                 \n",
       "26  in minutes                                                                 \n",
       "27  in minutes                                                                 \n",
       "28  in minutes                                                                 "
      ]
     },
     "execution_count": 15,
     "metadata": {},
     "output_type": "execute_result"
    }
   ],
   "source": [
    "pd.set_option('display.max_colwidth',-1)\n",
    "dfcols"
   ]
  },
  {
   "cell_type": "markdown",
   "metadata": {
    "slideshow": {
     "slide_type": "skip"
    }
   },
   "source": [
    "We'll also want to decode the airport and carrier codes. These are found in supplemental data at \n",
    "http://stat-computing.org/dataexpo/2009/supplemental-data.html"
   ]
  },
  {
   "cell_type": "code",
   "execution_count": 16,
   "metadata": {
    "slideshow": {
     "slide_type": "skip"
    }
   },
   "outputs": [],
   "source": [
    "dfcarrier = pd.read_csv('carriers.csv')\n",
    "dfairport = pd.read_csv('airports.csv')"
   ]
  },
  {
   "cell_type": "code",
   "execution_count": 17,
   "metadata": {
    "slideshow": {
     "slide_type": "skip"
    }
   },
   "outputs": [
    {
     "data": {
      "text/html": [
       "<div>\n",
       "<style scoped>\n",
       "    .dataframe tbody tr th:only-of-type {\n",
       "        vertical-align: middle;\n",
       "    }\n",
       "\n",
       "    .dataframe tbody tr th {\n",
       "        vertical-align: top;\n",
       "    }\n",
       "\n",
       "    .dataframe thead th {\n",
       "        text-align: right;\n",
       "    }\n",
       "</style>\n",
       "<table border=\"1\" class=\"dataframe\">\n",
       "  <thead>\n",
       "    <tr style=\"text-align: right;\">\n",
       "      <th></th>\n",
       "      <th>Code</th>\n",
       "      <th>Description</th>\n",
       "    </tr>\n",
       "  </thead>\n",
       "  <tbody>\n",
       "    <tr>\n",
       "      <th>0</th>\n",
       "      <td>02Q</td>\n",
       "      <td>Titan Airways</td>\n",
       "    </tr>\n",
       "    <tr>\n",
       "      <th>1</th>\n",
       "      <td>04Q</td>\n",
       "      <td>Tradewind Aviation</td>\n",
       "    </tr>\n",
       "    <tr>\n",
       "      <th>2</th>\n",
       "      <td>05Q</td>\n",
       "      <td>Comlux Aviation, AG</td>\n",
       "    </tr>\n",
       "    <tr>\n",
       "      <th>3</th>\n",
       "      <td>06Q</td>\n",
       "      <td>Master Top Linhas Aereas Ltd.</td>\n",
       "    </tr>\n",
       "    <tr>\n",
       "      <th>4</th>\n",
       "      <td>07Q</td>\n",
       "      <td>Flair Airlines Ltd.</td>\n",
       "    </tr>\n",
       "    <tr>\n",
       "      <th>5</th>\n",
       "      <td>09Q</td>\n",
       "      <td>Swift Air, LLC</td>\n",
       "    </tr>\n",
       "    <tr>\n",
       "      <th>6</th>\n",
       "      <td>0BQ</td>\n",
       "      <td>DCA</td>\n",
       "    </tr>\n",
       "    <tr>\n",
       "      <th>7</th>\n",
       "      <td>0CQ</td>\n",
       "      <td>ACM AIR CHARTER GmbH</td>\n",
       "    </tr>\n",
       "    <tr>\n",
       "      <th>8</th>\n",
       "      <td>0FQ</td>\n",
       "      <td>Maine Aviation Aircraft Charter, LLC</td>\n",
       "    </tr>\n",
       "    <tr>\n",
       "      <th>9</th>\n",
       "      <td>0GQ</td>\n",
       "      <td>Inter Island Airways, d/b/a Inter Island Air</td>\n",
       "    </tr>\n",
       "  </tbody>\n",
       "</table>\n",
       "</div>"
      ],
      "text/plain": [
       "  Code                                   Description\n",
       "0  02Q  Titan Airways                               \n",
       "1  04Q  Tradewind Aviation                          \n",
       "2  05Q  Comlux Aviation, AG                         \n",
       "3  06Q  Master Top Linhas Aereas Ltd.               \n",
       "4  07Q  Flair Airlines Ltd.                         \n",
       "5  09Q  Swift Air, LLC                              \n",
       "6  0BQ  DCA                                         \n",
       "7  0CQ  ACM AIR CHARTER GmbH                        \n",
       "8  0FQ  Maine Aviation Aircraft Charter, LLC        \n",
       "9  0GQ  Inter Island Airways, d/b/a Inter Island Air"
      ]
     },
     "execution_count": 17,
     "metadata": {},
     "output_type": "execute_result"
    }
   ],
   "source": [
    "dfcarrier.head(10)"
   ]
  },
  {
   "cell_type": "code",
   "execution_count": 18,
   "metadata": {
    "slideshow": {
     "slide_type": "skip"
    }
   },
   "outputs": [
    {
     "data": {
      "text/html": [
       "<div>\n",
       "<style scoped>\n",
       "    .dataframe tbody tr th:only-of-type {\n",
       "        vertical-align: middle;\n",
       "    }\n",
       "\n",
       "    .dataframe tbody tr th {\n",
       "        vertical-align: top;\n",
       "    }\n",
       "\n",
       "    .dataframe thead th {\n",
       "        text-align: right;\n",
       "    }\n",
       "</style>\n",
       "<table border=\"1\" class=\"dataframe\">\n",
       "  <thead>\n",
       "    <tr style=\"text-align: right;\">\n",
       "      <th></th>\n",
       "      <th>iata</th>\n",
       "      <th>airport</th>\n",
       "      <th>city</th>\n",
       "      <th>state</th>\n",
       "      <th>country</th>\n",
       "      <th>lat</th>\n",
       "      <th>long</th>\n",
       "    </tr>\n",
       "  </thead>\n",
       "  <tbody>\n",
       "    <tr>\n",
       "      <th>0</th>\n",
       "      <td>00M</td>\n",
       "      <td>Thigpen</td>\n",
       "      <td>Bay Springs</td>\n",
       "      <td>MS</td>\n",
       "      <td>USA</td>\n",
       "      <td>31.953765</td>\n",
       "      <td>-89.234505</td>\n",
       "    </tr>\n",
       "    <tr>\n",
       "      <th>1</th>\n",
       "      <td>00R</td>\n",
       "      <td>Livingston Municipal</td>\n",
       "      <td>Livingston</td>\n",
       "      <td>TX</td>\n",
       "      <td>USA</td>\n",
       "      <td>30.685861</td>\n",
       "      <td>-95.017928</td>\n",
       "    </tr>\n",
       "    <tr>\n",
       "      <th>2</th>\n",
       "      <td>00V</td>\n",
       "      <td>Meadow Lake</td>\n",
       "      <td>Colorado Springs</td>\n",
       "      <td>CO</td>\n",
       "      <td>USA</td>\n",
       "      <td>38.945749</td>\n",
       "      <td>-104.569893</td>\n",
       "    </tr>\n",
       "    <tr>\n",
       "      <th>3</th>\n",
       "      <td>01G</td>\n",
       "      <td>Perry-Warsaw</td>\n",
       "      <td>Perry</td>\n",
       "      <td>NY</td>\n",
       "      <td>USA</td>\n",
       "      <td>42.741347</td>\n",
       "      <td>-78.052081</td>\n",
       "    </tr>\n",
       "    <tr>\n",
       "      <th>4</th>\n",
       "      <td>01J</td>\n",
       "      <td>Hilliard Airpark</td>\n",
       "      <td>Hilliard</td>\n",
       "      <td>FL</td>\n",
       "      <td>USA</td>\n",
       "      <td>30.688012</td>\n",
       "      <td>-81.905944</td>\n",
       "    </tr>\n",
       "    <tr>\n",
       "      <th>5</th>\n",
       "      <td>01M</td>\n",
       "      <td>Tishomingo County</td>\n",
       "      <td>Belmont</td>\n",
       "      <td>MS</td>\n",
       "      <td>USA</td>\n",
       "      <td>34.491667</td>\n",
       "      <td>-88.201111</td>\n",
       "    </tr>\n",
       "    <tr>\n",
       "      <th>6</th>\n",
       "      <td>02A</td>\n",
       "      <td>Gragg-Wade</td>\n",
       "      <td>Clanton</td>\n",
       "      <td>AL</td>\n",
       "      <td>USA</td>\n",
       "      <td>32.850487</td>\n",
       "      <td>-86.611453</td>\n",
       "    </tr>\n",
       "    <tr>\n",
       "      <th>7</th>\n",
       "      <td>02C</td>\n",
       "      <td>Capitol</td>\n",
       "      <td>Brookfield</td>\n",
       "      <td>WI</td>\n",
       "      <td>USA</td>\n",
       "      <td>43.087510</td>\n",
       "      <td>-88.177869</td>\n",
       "    </tr>\n",
       "    <tr>\n",
       "      <th>8</th>\n",
       "      <td>02G</td>\n",
       "      <td>Columbiana County</td>\n",
       "      <td>East Liverpool</td>\n",
       "      <td>OH</td>\n",
       "      <td>USA</td>\n",
       "      <td>40.673313</td>\n",
       "      <td>-80.641406</td>\n",
       "    </tr>\n",
       "    <tr>\n",
       "      <th>9</th>\n",
       "      <td>03D</td>\n",
       "      <td>Memphis Memorial</td>\n",
       "      <td>Memphis</td>\n",
       "      <td>MO</td>\n",
       "      <td>USA</td>\n",
       "      <td>40.447259</td>\n",
       "      <td>-92.226961</td>\n",
       "    </tr>\n",
       "  </tbody>\n",
       "</table>\n",
       "</div>"
      ],
      "text/plain": [
       "  iata               airport              city state country        lat  \\\n",
       "0  00M  Thigpen               Bay Springs       MS    USA     31.953765   \n",
       "1  00R  Livingston Municipal  Livingston        TX    USA     30.685861   \n",
       "2  00V  Meadow Lake           Colorado Springs  CO    USA     38.945749   \n",
       "3  01G  Perry-Warsaw          Perry             NY    USA     42.741347   \n",
       "4  01J  Hilliard Airpark      Hilliard          FL    USA     30.688012   \n",
       "5  01M  Tishomingo County     Belmont           MS    USA     34.491667   \n",
       "6  02A  Gragg-Wade            Clanton           AL    USA     32.850487   \n",
       "7  02C  Capitol               Brookfield        WI    USA     43.087510   \n",
       "8  02G  Columbiana County     East Liverpool    OH    USA     40.673313   \n",
       "9  03D  Memphis Memorial      Memphis           MO    USA     40.447259   \n",
       "\n",
       "         long  \n",
       "0 -89.234505   \n",
       "1 -95.017928   \n",
       "2 -104.569893  \n",
       "3 -78.052081   \n",
       "4 -81.905944   \n",
       "5 -88.201111   \n",
       "6 -86.611453   \n",
       "7 -88.177869   \n",
       "8 -80.641406   \n",
       "9 -92.226961   "
      ]
     },
     "execution_count": 18,
     "metadata": {},
     "output_type": "execute_result"
    }
   ],
   "source": [
    "dfairport.head(10)"
   ]
  },
  {
   "cell_type": "markdown",
   "metadata": {
    "slideshow": {
     "slide_type": "skip"
    }
   },
   "source": [
    "## Data Cleaning"
   ]
  },
  {
   "cell_type": "markdown",
   "metadata": {
    "slideshow": {
     "slide_type": "skip"
    }
   },
   "source": [
    "#### Define\n",
    "Merge carrier data into main datasets\n",
    "1. Left merge on Origin, right on iata. Drop iata after merge\n",
    "\n",
    "#### Code:"
   ]
  },
  {
   "cell_type": "code",
   "execution_count": 19,
   "metadata": {
    "slideshow": {
     "slide_type": "skip"
    }
   },
   "outputs": [],
   "source": [
    "df08clean = pd.merge(df2008,dfairport,left_on='Origin',right_on='iata',how='left').drop('iata',axis=1)"
   ]
  },
  {
   "cell_type": "markdown",
   "metadata": {
    "slideshow": {
     "slide_type": "skip"
    }
   },
   "source": [
    "#### Test:"
   ]
  },
  {
   "cell_type": "code",
   "execution_count": 20,
   "metadata": {
    "slideshow": {
     "slide_type": "skip"
    }
   },
   "outputs": [
    {
     "name": "stdout",
     "output_type": "stream",
     "text": [
      "<class 'pandas.core.frame.DataFrame'>\n",
      "Int64Index: 7009728 entries, 0 to 7009727\n",
      "Data columns (total 35 columns):\n",
      "Year                 7009728 non-null int64\n",
      "Month                7009728 non-null int64\n",
      "DayofMonth           7009728 non-null int64\n",
      "DayOfWeek            7009728 non-null int64\n",
      "DepTime              6873482 non-null float64\n",
      "CRSDepTime           7009728 non-null int64\n",
      "ArrTime              6858079 non-null float64\n",
      "CRSArrTime           7009728 non-null int64\n",
      "UniqueCarrier        7009728 non-null object\n",
      "FlightNum            7009728 non-null int64\n",
      "TailNum              6926363 non-null object\n",
      "ActualElapsedTime    6855029 non-null float64\n",
      "CRSElapsedTime       7008884 non-null float64\n",
      "AirTime              6855029 non-null float64\n",
      "ArrDelay             6855029 non-null float64\n",
      "DepDelay             6873482 non-null float64\n",
      "Origin               7009728 non-null object\n",
      "Dest                 7009728 non-null object\n",
      "Distance             7009728 non-null int64\n",
      "TaxiIn               6858079 non-null float64\n",
      "TaxiOut              6872670 non-null float64\n",
      "Cancelled            7009728 non-null int64\n",
      "CancellationCode     137434 non-null object\n",
      "Diverted             7009728 non-null int64\n",
      "CarrierDelay         1524735 non-null float64\n",
      "WeatherDelay         1524735 non-null float64\n",
      "NASDelay             1524735 non-null float64\n",
      "SecurityDelay        1524735 non-null float64\n",
      "LateAircraftDelay    1524735 non-null float64\n",
      "airport              7009728 non-null object\n",
      "city                 7004953 non-null object\n",
      "state                7004953 non-null object\n",
      "country              7009728 non-null object\n",
      "lat                  7009728 non-null float64\n",
      "long                 7009728 non-null float64\n",
      "dtypes: float64(16), int64(10), object(9)\n",
      "memory usage: 1.9+ GB\n"
     ]
    }
   ],
   "source": [
    "df08clean.info()"
   ]
  },
  {
   "cell_type": "code",
   "execution_count": 21,
   "metadata": {
    "slideshow": {
     "slide_type": "skip"
    }
   },
   "outputs": [
    {
     "data": {
      "text/html": [
       "<div>\n",
       "<style scoped>\n",
       "    .dataframe tbody tr th:only-of-type {\n",
       "        vertical-align: middle;\n",
       "    }\n",
       "\n",
       "    .dataframe tbody tr th {\n",
       "        vertical-align: top;\n",
       "    }\n",
       "\n",
       "    .dataframe thead th {\n",
       "        text-align: right;\n",
       "    }\n",
       "</style>\n",
       "<table border=\"1\" class=\"dataframe\">\n",
       "  <thead>\n",
       "    <tr style=\"text-align: right;\">\n",
       "      <th></th>\n",
       "      <th>Year</th>\n",
       "      <th>Month</th>\n",
       "      <th>DayofMonth</th>\n",
       "      <th>DayOfWeek</th>\n",
       "      <th>DepTime</th>\n",
       "      <th>CRSDepTime</th>\n",
       "      <th>ArrTime</th>\n",
       "      <th>CRSArrTime</th>\n",
       "      <th>UniqueCarrier</th>\n",
       "      <th>FlightNum</th>\n",
       "      <th>...</th>\n",
       "      <th>WeatherDelay</th>\n",
       "      <th>NASDelay</th>\n",
       "      <th>SecurityDelay</th>\n",
       "      <th>LateAircraftDelay</th>\n",
       "      <th>airport</th>\n",
       "      <th>city</th>\n",
       "      <th>state</th>\n",
       "      <th>country</th>\n",
       "      <th>lat</th>\n",
       "      <th>long</th>\n",
       "    </tr>\n",
       "  </thead>\n",
       "  <tbody>\n",
       "    <tr>\n",
       "      <th>0</th>\n",
       "      <td>2008</td>\n",
       "      <td>1</td>\n",
       "      <td>3</td>\n",
       "      <td>4</td>\n",
       "      <td>2003.0</td>\n",
       "      <td>1955</td>\n",
       "      <td>2211.0</td>\n",
       "      <td>2225</td>\n",
       "      <td>WN</td>\n",
       "      <td>335</td>\n",
       "      <td>...</td>\n",
       "      <td>NaN</td>\n",
       "      <td>NaN</td>\n",
       "      <td>NaN</td>\n",
       "      <td>NaN</td>\n",
       "      <td>Washington Dulles International</td>\n",
       "      <td>Chantilly</td>\n",
       "      <td>VA</td>\n",
       "      <td>USA</td>\n",
       "      <td>38.944532</td>\n",
       "      <td>-77.455810</td>\n",
       "    </tr>\n",
       "    <tr>\n",
       "      <th>1</th>\n",
       "      <td>2008</td>\n",
       "      <td>1</td>\n",
       "      <td>3</td>\n",
       "      <td>4</td>\n",
       "      <td>754.0</td>\n",
       "      <td>735</td>\n",
       "      <td>1002.0</td>\n",
       "      <td>1000</td>\n",
       "      <td>WN</td>\n",
       "      <td>3231</td>\n",
       "      <td>...</td>\n",
       "      <td>NaN</td>\n",
       "      <td>NaN</td>\n",
       "      <td>NaN</td>\n",
       "      <td>NaN</td>\n",
       "      <td>Washington Dulles International</td>\n",
       "      <td>Chantilly</td>\n",
       "      <td>VA</td>\n",
       "      <td>USA</td>\n",
       "      <td>38.944532</td>\n",
       "      <td>-77.455810</td>\n",
       "    </tr>\n",
       "    <tr>\n",
       "      <th>2</th>\n",
       "      <td>2008</td>\n",
       "      <td>1</td>\n",
       "      <td>3</td>\n",
       "      <td>4</td>\n",
       "      <td>628.0</td>\n",
       "      <td>620</td>\n",
       "      <td>804.0</td>\n",
       "      <td>750</td>\n",
       "      <td>WN</td>\n",
       "      <td>448</td>\n",
       "      <td>...</td>\n",
       "      <td>NaN</td>\n",
       "      <td>NaN</td>\n",
       "      <td>NaN</td>\n",
       "      <td>NaN</td>\n",
       "      <td>Indianapolis International</td>\n",
       "      <td>Indianapolis</td>\n",
       "      <td>IN</td>\n",
       "      <td>USA</td>\n",
       "      <td>39.717329</td>\n",
       "      <td>-86.294384</td>\n",
       "    </tr>\n",
       "    <tr>\n",
       "      <th>3</th>\n",
       "      <td>2008</td>\n",
       "      <td>1</td>\n",
       "      <td>3</td>\n",
       "      <td>4</td>\n",
       "      <td>926.0</td>\n",
       "      <td>930</td>\n",
       "      <td>1054.0</td>\n",
       "      <td>1100</td>\n",
       "      <td>WN</td>\n",
       "      <td>1746</td>\n",
       "      <td>...</td>\n",
       "      <td>NaN</td>\n",
       "      <td>NaN</td>\n",
       "      <td>NaN</td>\n",
       "      <td>NaN</td>\n",
       "      <td>Indianapolis International</td>\n",
       "      <td>Indianapolis</td>\n",
       "      <td>IN</td>\n",
       "      <td>USA</td>\n",
       "      <td>39.717329</td>\n",
       "      <td>-86.294384</td>\n",
       "    </tr>\n",
       "    <tr>\n",
       "      <th>4</th>\n",
       "      <td>2008</td>\n",
       "      <td>1</td>\n",
       "      <td>3</td>\n",
       "      <td>4</td>\n",
       "      <td>1829.0</td>\n",
       "      <td>1755</td>\n",
       "      <td>1959.0</td>\n",
       "      <td>1925</td>\n",
       "      <td>WN</td>\n",
       "      <td>3920</td>\n",
       "      <td>...</td>\n",
       "      <td>0.0</td>\n",
       "      <td>0.0</td>\n",
       "      <td>0.0</td>\n",
       "      <td>32.0</td>\n",
       "      <td>Indianapolis International</td>\n",
       "      <td>Indianapolis</td>\n",
       "      <td>IN</td>\n",
       "      <td>USA</td>\n",
       "      <td>39.717329</td>\n",
       "      <td>-86.294384</td>\n",
       "    </tr>\n",
       "    <tr>\n",
       "      <th>5</th>\n",
       "      <td>2008</td>\n",
       "      <td>1</td>\n",
       "      <td>3</td>\n",
       "      <td>4</td>\n",
       "      <td>1940.0</td>\n",
       "      <td>1915</td>\n",
       "      <td>2121.0</td>\n",
       "      <td>2110</td>\n",
       "      <td>WN</td>\n",
       "      <td>378</td>\n",
       "      <td>...</td>\n",
       "      <td>NaN</td>\n",
       "      <td>NaN</td>\n",
       "      <td>NaN</td>\n",
       "      <td>NaN</td>\n",
       "      <td>Indianapolis International</td>\n",
       "      <td>Indianapolis</td>\n",
       "      <td>IN</td>\n",
       "      <td>USA</td>\n",
       "      <td>39.717329</td>\n",
       "      <td>-86.294384</td>\n",
       "    </tr>\n",
       "    <tr>\n",
       "      <th>6</th>\n",
       "      <td>2008</td>\n",
       "      <td>1</td>\n",
       "      <td>3</td>\n",
       "      <td>4</td>\n",
       "      <td>1937.0</td>\n",
       "      <td>1830</td>\n",
       "      <td>2037.0</td>\n",
       "      <td>1940</td>\n",
       "      <td>WN</td>\n",
       "      <td>509</td>\n",
       "      <td>...</td>\n",
       "      <td>0.0</td>\n",
       "      <td>0.0</td>\n",
       "      <td>0.0</td>\n",
       "      <td>47.0</td>\n",
       "      <td>Indianapolis International</td>\n",
       "      <td>Indianapolis</td>\n",
       "      <td>IN</td>\n",
       "      <td>USA</td>\n",
       "      <td>39.717329</td>\n",
       "      <td>-86.294384</td>\n",
       "    </tr>\n",
       "    <tr>\n",
       "      <th>7</th>\n",
       "      <td>2008</td>\n",
       "      <td>1</td>\n",
       "      <td>3</td>\n",
       "      <td>4</td>\n",
       "      <td>1039.0</td>\n",
       "      <td>1040</td>\n",
       "      <td>1132.0</td>\n",
       "      <td>1150</td>\n",
       "      <td>WN</td>\n",
       "      <td>535</td>\n",
       "      <td>...</td>\n",
       "      <td>NaN</td>\n",
       "      <td>NaN</td>\n",
       "      <td>NaN</td>\n",
       "      <td>NaN</td>\n",
       "      <td>Indianapolis International</td>\n",
       "      <td>Indianapolis</td>\n",
       "      <td>IN</td>\n",
       "      <td>USA</td>\n",
       "      <td>39.717329</td>\n",
       "      <td>-86.294384</td>\n",
       "    </tr>\n",
       "    <tr>\n",
       "      <th>8</th>\n",
       "      <td>2008</td>\n",
       "      <td>1</td>\n",
       "      <td>3</td>\n",
       "      <td>4</td>\n",
       "      <td>617.0</td>\n",
       "      <td>615</td>\n",
       "      <td>652.0</td>\n",
       "      <td>650</td>\n",
       "      <td>WN</td>\n",
       "      <td>11</td>\n",
       "      <td>...</td>\n",
       "      <td>NaN</td>\n",
       "      <td>NaN</td>\n",
       "      <td>NaN</td>\n",
       "      <td>NaN</td>\n",
       "      <td>Indianapolis International</td>\n",
       "      <td>Indianapolis</td>\n",
       "      <td>IN</td>\n",
       "      <td>USA</td>\n",
       "      <td>39.717329</td>\n",
       "      <td>-86.294384</td>\n",
       "    </tr>\n",
       "    <tr>\n",
       "      <th>9</th>\n",
       "      <td>2008</td>\n",
       "      <td>1</td>\n",
       "      <td>3</td>\n",
       "      <td>4</td>\n",
       "      <td>1620.0</td>\n",
       "      <td>1620</td>\n",
       "      <td>1639.0</td>\n",
       "      <td>1655</td>\n",
       "      <td>WN</td>\n",
       "      <td>810</td>\n",
       "      <td>...</td>\n",
       "      <td>NaN</td>\n",
       "      <td>NaN</td>\n",
       "      <td>NaN</td>\n",
       "      <td>NaN</td>\n",
       "      <td>Indianapolis International</td>\n",
       "      <td>Indianapolis</td>\n",
       "      <td>IN</td>\n",
       "      <td>USA</td>\n",
       "      <td>39.717329</td>\n",
       "      <td>-86.294384</td>\n",
       "    </tr>\n",
       "  </tbody>\n",
       "</table>\n",
       "<p>10 rows × 35 columns</p>\n",
       "</div>"
      ],
      "text/plain": [
       "   Year  Month  DayofMonth  DayOfWeek  DepTime  CRSDepTime  ArrTime  \\\n",
       "0  2008  1      3           4          2003.0   1955        2211.0    \n",
       "1  2008  1      3           4          754.0    735         1002.0    \n",
       "2  2008  1      3           4          628.0    620         804.0     \n",
       "3  2008  1      3           4          926.0    930         1054.0    \n",
       "4  2008  1      3           4          1829.0   1755        1959.0    \n",
       "5  2008  1      3           4          1940.0   1915        2121.0    \n",
       "6  2008  1      3           4          1937.0   1830        2037.0    \n",
       "7  2008  1      3           4          1039.0   1040        1132.0    \n",
       "8  2008  1      3           4          617.0    615         652.0     \n",
       "9  2008  1      3           4          1620.0   1620        1639.0    \n",
       "\n",
       "   CRSArrTime UniqueCarrier  FlightNum    ...     WeatherDelay  NASDelay  \\\n",
       "0  2225        WN            335          ...     NaN          NaN         \n",
       "1  1000        WN            3231         ...     NaN          NaN         \n",
       "2  750         WN            448          ...     NaN          NaN         \n",
       "3  1100        WN            1746         ...     NaN          NaN         \n",
       "4  1925        WN            3920         ...      0.0          0.0        \n",
       "5  2110        WN            378          ...     NaN          NaN         \n",
       "6  1940        WN            509          ...      0.0          0.0        \n",
       "7  1150        WN            535          ...     NaN          NaN         \n",
       "8  650         WN            11           ...     NaN          NaN         \n",
       "9  1655        WN            810          ...     NaN          NaN         \n",
       "\n",
       "   SecurityDelay  LateAircraftDelay                          airport  \\\n",
       "0 NaN            NaN                 Washington Dulles International   \n",
       "1 NaN            NaN                 Washington Dulles International   \n",
       "2 NaN            NaN                 Indianapolis International        \n",
       "3 NaN            NaN                 Indianapolis International        \n",
       "4  0.0            32.0               Indianapolis International        \n",
       "5 NaN            NaN                 Indianapolis International        \n",
       "6  0.0            47.0               Indianapolis International        \n",
       "7 NaN            NaN                 Indianapolis International        \n",
       "8 NaN            NaN                 Indianapolis International        \n",
       "9 NaN            NaN                 Indianapolis International        \n",
       "\n",
       "           city state country        lat       long  \n",
       "0  Chantilly     VA    USA     38.944532 -77.455810  \n",
       "1  Chantilly     VA    USA     38.944532 -77.455810  \n",
       "2  Indianapolis  IN    USA     39.717329 -86.294384  \n",
       "3  Indianapolis  IN    USA     39.717329 -86.294384  \n",
       "4  Indianapolis  IN    USA     39.717329 -86.294384  \n",
       "5  Indianapolis  IN    USA     39.717329 -86.294384  \n",
       "6  Indianapolis  IN    USA     39.717329 -86.294384  \n",
       "7  Indianapolis  IN    USA     39.717329 -86.294384  \n",
       "8  Indianapolis  IN    USA     39.717329 -86.294384  \n",
       "9  Indianapolis  IN    USA     39.717329 -86.294384  \n",
       "\n",
       "[10 rows x 35 columns]"
      ]
     },
     "execution_count": 21,
     "metadata": {},
     "output_type": "execute_result"
    }
   ],
   "source": [
    "df08clean.head(10)"
   ]
  },
  {
   "cell_type": "markdown",
   "metadata": {
    "slideshow": {
     "slide_type": "skip"
    }
   },
   "source": [
    "#### Define:\n",
    "Rename airport column to specify it as origin\n",
    "\n",
    "#### Code:"
   ]
  },
  {
   "cell_type": "code",
   "execution_count": 22,
   "metadata": {
    "slideshow": {
     "slide_type": "skip"
    }
   },
   "outputs": [],
   "source": [
    "df08clean.rename(columns={'airport' : 'orig_airport','city':'orig_city','state':'orig_state','country':'orig_country',\n",
    "                          'lat':'orig_lat','long':'orig_long'},inplace=True)"
   ]
  },
  {
   "cell_type": "markdown",
   "metadata": {
    "slideshow": {
     "slide_type": "skip"
    }
   },
   "source": [
    "#### Test"
   ]
  },
  {
   "cell_type": "code",
   "execution_count": 23,
   "metadata": {
    "slideshow": {
     "slide_type": "skip"
    }
   },
   "outputs": [
    {
     "name": "stdout",
     "output_type": "stream",
     "text": [
      "<class 'pandas.core.frame.DataFrame'>\n",
      "Int64Index: 7009728 entries, 0 to 7009727\n",
      "Data columns (total 35 columns):\n",
      "Year                 7009728 non-null int64\n",
      "Month                7009728 non-null int64\n",
      "DayofMonth           7009728 non-null int64\n",
      "DayOfWeek            7009728 non-null int64\n",
      "DepTime              6873482 non-null float64\n",
      "CRSDepTime           7009728 non-null int64\n",
      "ArrTime              6858079 non-null float64\n",
      "CRSArrTime           7009728 non-null int64\n",
      "UniqueCarrier        7009728 non-null object\n",
      "FlightNum            7009728 non-null int64\n",
      "TailNum              6926363 non-null object\n",
      "ActualElapsedTime    6855029 non-null float64\n",
      "CRSElapsedTime       7008884 non-null float64\n",
      "AirTime              6855029 non-null float64\n",
      "ArrDelay             6855029 non-null float64\n",
      "DepDelay             6873482 non-null float64\n",
      "Origin               7009728 non-null object\n",
      "Dest                 7009728 non-null object\n",
      "Distance             7009728 non-null int64\n",
      "TaxiIn               6858079 non-null float64\n",
      "TaxiOut              6872670 non-null float64\n",
      "Cancelled            7009728 non-null int64\n",
      "CancellationCode     137434 non-null object\n",
      "Diverted             7009728 non-null int64\n",
      "CarrierDelay         1524735 non-null float64\n",
      "WeatherDelay         1524735 non-null float64\n",
      "NASDelay             1524735 non-null float64\n",
      "SecurityDelay        1524735 non-null float64\n",
      "LateAircraftDelay    1524735 non-null float64\n",
      "orig_airport         7009728 non-null object\n",
      "orig_city            7004953 non-null object\n",
      "orig_state           7004953 non-null object\n",
      "orig_country         7009728 non-null object\n",
      "orig_lat             7009728 non-null float64\n",
      "orig_long            7009728 non-null float64\n",
      "dtypes: float64(16), int64(10), object(9)\n",
      "memory usage: 1.9+ GB\n"
     ]
    }
   ],
   "source": [
    "df08clean.info()"
   ]
  },
  {
   "cell_type": "markdown",
   "metadata": {
    "slideshow": {
     "slide_type": "skip"
    }
   },
   "source": [
    "Repeat for destination airport"
   ]
  },
  {
   "cell_type": "code",
   "execution_count": 24,
   "metadata": {
    "slideshow": {
     "slide_type": "skip"
    }
   },
   "outputs": [
    {
     "name": "stdout",
     "output_type": "stream",
     "text": [
      "<class 'pandas.core.frame.DataFrame'>\n",
      "Int64Index: 7009728 entries, 0 to 7009727\n",
      "Data columns (total 41 columns):\n",
      "Year                 7009728 non-null int64\n",
      "Month                7009728 non-null int64\n",
      "DayofMonth           7009728 non-null int64\n",
      "DayOfWeek            7009728 non-null int64\n",
      "DepTime              6873482 non-null float64\n",
      "CRSDepTime           7009728 non-null int64\n",
      "ArrTime              6858079 non-null float64\n",
      "CRSArrTime           7009728 non-null int64\n",
      "UniqueCarrier        7009728 non-null object\n",
      "FlightNum            7009728 non-null int64\n",
      "TailNum              6926363 non-null object\n",
      "ActualElapsedTime    6855029 non-null float64\n",
      "CRSElapsedTime       7008884 non-null float64\n",
      "AirTime              6855029 non-null float64\n",
      "ArrDelay             6855029 non-null float64\n",
      "DepDelay             6873482 non-null float64\n",
      "Origin               7009728 non-null object\n",
      "Dest                 7009728 non-null object\n",
      "Distance             7009728 non-null int64\n",
      "TaxiIn               6858079 non-null float64\n",
      "TaxiOut              6872670 non-null float64\n",
      "Cancelled            7009728 non-null int64\n",
      "CancellationCode     137434 non-null object\n",
      "Diverted             7009728 non-null int64\n",
      "CarrierDelay         1524735 non-null float64\n",
      "WeatherDelay         1524735 non-null float64\n",
      "NASDelay             1524735 non-null float64\n",
      "SecurityDelay        1524735 non-null float64\n",
      "LateAircraftDelay    1524735 non-null float64\n",
      "orig_airport         7009728 non-null object\n",
      "orig_city            7004953 non-null object\n",
      "orig_state           7004953 non-null object\n",
      "orig_country         7009728 non-null object\n",
      "orig_lat             7009728 non-null float64\n",
      "orig_long            7009728 non-null float64\n",
      "dest_airport         7009728 non-null object\n",
      "dest_city            7004954 non-null object\n",
      "dest_state           7004954 non-null object\n",
      "dest_country         7009728 non-null object\n",
      "dest_lat             7009728 non-null float64\n",
      "dest_long            7009728 non-null float64\n",
      "dtypes: float64(18), int64(10), object(13)\n",
      "memory usage: 2.2+ GB\n"
     ]
    }
   ],
   "source": [
    "df08clean = pd.merge(df08clean,dfairport,left_on='Dest',right_on='iata',how='left').drop('iata',axis=1)\n",
    "df08clean.rename(columns={'airport' : 'dest_airport','city':'dest_city','state':'dest_state','country':'dest_country',\n",
    "                          'lat':'dest_lat','long':'dest_long'},inplace=True)\n",
    "df08clean.info()"
   ]
  },
  {
   "cell_type": "markdown",
   "metadata": {
    "slideshow": {
     "slide_type": "skip"
    }
   },
   "source": [
    "And finally for carrier code:"
   ]
  },
  {
   "cell_type": "code",
   "execution_count": 25,
   "metadata": {
    "slideshow": {
     "slide_type": "skip"
    }
   },
   "outputs": [
    {
     "name": "stdout",
     "output_type": "stream",
     "text": [
      "<class 'pandas.core.frame.DataFrame'>\n",
      "Int64Index: 7009728 entries, 0 to 7009727\n",
      "Data columns (total 42 columns):\n",
      "Year                 7009728 non-null int64\n",
      "Month                7009728 non-null int64\n",
      "DayofMonth           7009728 non-null int64\n",
      "DayOfWeek            7009728 non-null int64\n",
      "DepTime              6873482 non-null float64\n",
      "CRSDepTime           7009728 non-null int64\n",
      "ArrTime              6858079 non-null float64\n",
      "CRSArrTime           7009728 non-null int64\n",
      "UniqueCarrier        7009728 non-null object\n",
      "FlightNum            7009728 non-null int64\n",
      "TailNum              6926363 non-null object\n",
      "ActualElapsedTime    6855029 non-null float64\n",
      "CRSElapsedTime       7008884 non-null float64\n",
      "AirTime              6855029 non-null float64\n",
      "ArrDelay             6855029 non-null float64\n",
      "DepDelay             6873482 non-null float64\n",
      "Origin               7009728 non-null object\n",
      "Dest                 7009728 non-null object\n",
      "Distance             7009728 non-null int64\n",
      "TaxiIn               6858079 non-null float64\n",
      "TaxiOut              6872670 non-null float64\n",
      "Cancelled            7009728 non-null int64\n",
      "CancellationCode     137434 non-null object\n",
      "Diverted             7009728 non-null int64\n",
      "CarrierDelay         1524735 non-null float64\n",
      "WeatherDelay         1524735 non-null float64\n",
      "NASDelay             1524735 non-null float64\n",
      "SecurityDelay        1524735 non-null float64\n",
      "LateAircraftDelay    1524735 non-null float64\n",
      "orig_airport         7009728 non-null object\n",
      "orig_city            7004953 non-null object\n",
      "orig_state           7004953 non-null object\n",
      "orig_country         7009728 non-null object\n",
      "orig_lat             7009728 non-null float64\n",
      "orig_long            7009728 non-null float64\n",
      "dest_airport         7009728 non-null object\n",
      "dest_city            7004954 non-null object\n",
      "dest_state           7004954 non-null object\n",
      "dest_country         7009728 non-null object\n",
      "dest_lat             7009728 non-null float64\n",
      "dest_long            7009728 non-null float64\n",
      "Airline              7009728 non-null object\n",
      "dtypes: float64(18), int64(10), object(14)\n",
      "memory usage: 2.2+ GB\n"
     ]
    }
   ],
   "source": [
    "df08clean = pd.merge(df08clean,dfcarrier,left_on='UniqueCarrier',right_on='Code',how='left').drop('Code',axis=1)\n",
    "df08clean.rename(columns={'Description':'Airline'},inplace=True)\n",
    "df08clean.info()"
   ]
  },
  {
   "cell_type": "markdown",
   "metadata": {
    "slideshow": {
     "slide_type": "skip"
    }
   },
   "source": [
    "Do all of this for 1998"
   ]
  },
  {
   "cell_type": "code",
   "execution_count": 26,
   "metadata": {
    "slideshow": {
     "slide_type": "skip"
    }
   },
   "outputs": [
    {
     "name": "stdout",
     "output_type": "stream",
     "text": [
      "<class 'pandas.core.frame.DataFrame'>\n",
      "Int64Index: 5384721 entries, 0 to 5384720\n",
      "Data columns (total 42 columns):\n",
      "Year                 5384721 non-null int64\n",
      "Month                5384721 non-null int64\n",
      "DayofMonth           5384721 non-null int64\n",
      "DayOfWeek            5384721 non-null int64\n",
      "DepTime              5240212 non-null float64\n",
      "CRSDepTime           5384721 non-null int64\n",
      "ArrTime              5227051 non-null float64\n",
      "CRSArrTime           5384721 non-null int64\n",
      "UniqueCarrier        5384721 non-null object\n",
      "FlightNum            5384721 non-null int64\n",
      "TailNum              5384721 non-null object\n",
      "ActualElapsedTime    5227051 non-null float64\n",
      "CRSElapsedTime       5382335 non-null float64\n",
      "AirTime              5227051 non-null float64\n",
      "ArrDelay             5227051 non-null float64\n",
      "DepDelay             5240212 non-null float64\n",
      "Origin               5384721 non-null object\n",
      "Dest                 5384721 non-null object\n",
      "Distance             5384721 non-null int64\n",
      "TaxiIn               5384721 non-null int64\n",
      "TaxiOut              5384721 non-null int64\n",
      "Cancelled            5384721 non-null int64\n",
      "CancellationCode     0 non-null float64\n",
      "Diverted             5384721 non-null int64\n",
      "CarrierDelay         0 non-null float64\n",
      "WeatherDelay         0 non-null float64\n",
      "NASDelay             0 non-null float64\n",
      "SecurityDelay        0 non-null float64\n",
      "LateAircraftDelay    0 non-null float64\n",
      "orig_airport         5384721 non-null object\n",
      "orig_city            5384721 non-null object\n",
      "orig_state           5384721 non-null object\n",
      "orig_country         5384721 non-null object\n",
      "orig_lat             5384721 non-null float64\n",
      "orig_long            5384721 non-null float64\n",
      "dest_airport         5384721 non-null object\n",
      "dest_city            5384721 non-null object\n",
      "dest_state           5384721 non-null object\n",
      "dest_country         5384721 non-null object\n",
      "dest_lat             5384721 non-null float64\n",
      "dest_long            5384721 non-null float64\n",
      "Airline              5384721 non-null object\n",
      "dtypes: float64(17), int64(12), object(13)\n",
      "memory usage: 1.7+ GB\n"
     ]
    }
   ],
   "source": [
    "df98clean = pd.merge(df1998,dfairport,left_on='Origin',right_on='iata',how='left').drop('iata',axis=1)\n",
    "df98clean.rename(columns={'airport' : 'orig_airport','city':'orig_city','state':'orig_state','country':'orig_country',\n",
    "                          'lat':'orig_lat','long':'orig_long'},inplace=True)\n",
    "df98clean = pd.merge(df98clean,dfairport,left_on='Dest',right_on='iata',how='left').drop('iata',axis=1)\n",
    "df98clean.rename(columns={'airport' : 'dest_airport','city':'dest_city','state':'dest_state','country':'dest_country',\n",
    "                          'lat':'dest_lat','long':'dest_long'},inplace=True)\n",
    "df98clean = pd.merge(df98clean,dfcarrier,left_on='UniqueCarrier',right_on='Code',how='left').drop('Code',axis=1)\n",
    "df98clean.rename(columns={'Description':'Airline'},inplace=True)\n",
    "df98clean.info()"
   ]
  },
  {
   "cell_type": "markdown",
   "metadata": {},
   "source": [
    "#### Define:\n",
    "Drop delay reasons columns, since these were not reported in 1998.\n",
    "\n",
    "#### Code:"
   ]
  },
  {
   "cell_type": "code",
   "execution_count": 27,
   "metadata": {
    "slideshow": {
     "slide_type": "skip"
    }
   },
   "outputs": [],
   "source": [
    "dropcols = ['CancellationCode','CarrierDelay','WeatherDelay','NASDelay','SecurityDelay','LateAircraftDelay']\n",
    "df98clean.drop(columns=dropcols,axis=1,inplace=True)\n",
    "df08clean.drop(columns=dropcols,axis=1,inplace=True)"
   ]
  },
  {
   "cell_type": "markdown",
   "metadata": {
    "slideshow": {
     "slide_type": "skip"
    }
   },
   "source": [
    "#### Test"
   ]
  },
  {
   "cell_type": "code",
   "execution_count": 28,
   "metadata": {
    "slideshow": {
     "slide_type": "skip"
    }
   },
   "outputs": [
    {
     "name": "stdout",
     "output_type": "stream",
     "text": [
      "<class 'pandas.core.frame.DataFrame'>\n",
      "Int64Index: 5384721 entries, 0 to 5384720\n",
      "Data columns (total 36 columns):\n",
      "Year                 5384721 non-null int64\n",
      "Month                5384721 non-null int64\n",
      "DayofMonth           5384721 non-null int64\n",
      "DayOfWeek            5384721 non-null int64\n",
      "DepTime              5240212 non-null float64\n",
      "CRSDepTime           5384721 non-null int64\n",
      "ArrTime              5227051 non-null float64\n",
      "CRSArrTime           5384721 non-null int64\n",
      "UniqueCarrier        5384721 non-null object\n",
      "FlightNum            5384721 non-null int64\n",
      "TailNum              5384721 non-null object\n",
      "ActualElapsedTime    5227051 non-null float64\n",
      "CRSElapsedTime       5382335 non-null float64\n",
      "AirTime              5227051 non-null float64\n",
      "ArrDelay             5227051 non-null float64\n",
      "DepDelay             5240212 non-null float64\n",
      "Origin               5384721 non-null object\n",
      "Dest                 5384721 non-null object\n",
      "Distance             5384721 non-null int64\n",
      "TaxiIn               5384721 non-null int64\n",
      "TaxiOut              5384721 non-null int64\n",
      "Cancelled            5384721 non-null int64\n",
      "Diverted             5384721 non-null int64\n",
      "orig_airport         5384721 non-null object\n",
      "orig_city            5384721 non-null object\n",
      "orig_state           5384721 non-null object\n",
      "orig_country         5384721 non-null object\n",
      "orig_lat             5384721 non-null float64\n",
      "orig_long            5384721 non-null float64\n",
      "dest_airport         5384721 non-null object\n",
      "dest_city            5384721 non-null object\n",
      "dest_state           5384721 non-null object\n",
      "dest_country         5384721 non-null object\n",
      "dest_lat             5384721 non-null float64\n",
      "dest_long            5384721 non-null float64\n",
      "Airline              5384721 non-null object\n",
      "dtypes: float64(11), int64(12), object(13)\n",
      "memory usage: 1.5+ GB\n"
     ]
    }
   ],
   "source": [
    "df98clean.info()"
   ]
  },
  {
   "cell_type": "code",
   "execution_count": 29,
   "metadata": {
    "slideshow": {
     "slide_type": "skip"
    }
   },
   "outputs": [
    {
     "name": "stdout",
     "output_type": "stream",
     "text": [
      "<class 'pandas.core.frame.DataFrame'>\n",
      "Int64Index: 7009728 entries, 0 to 7009727\n",
      "Data columns (total 36 columns):\n",
      "Year                 7009728 non-null int64\n",
      "Month                7009728 non-null int64\n",
      "DayofMonth           7009728 non-null int64\n",
      "DayOfWeek            7009728 non-null int64\n",
      "DepTime              6873482 non-null float64\n",
      "CRSDepTime           7009728 non-null int64\n",
      "ArrTime              6858079 non-null float64\n",
      "CRSArrTime           7009728 non-null int64\n",
      "UniqueCarrier        7009728 non-null object\n",
      "FlightNum            7009728 non-null int64\n",
      "TailNum              6926363 non-null object\n",
      "ActualElapsedTime    6855029 non-null float64\n",
      "CRSElapsedTime       7008884 non-null float64\n",
      "AirTime              6855029 non-null float64\n",
      "ArrDelay             6855029 non-null float64\n",
      "DepDelay             6873482 non-null float64\n",
      "Origin               7009728 non-null object\n",
      "Dest                 7009728 non-null object\n",
      "Distance             7009728 non-null int64\n",
      "TaxiIn               6858079 non-null float64\n",
      "TaxiOut              6872670 non-null float64\n",
      "Cancelled            7009728 non-null int64\n",
      "Diverted             7009728 non-null int64\n",
      "orig_airport         7009728 non-null object\n",
      "orig_city            7004953 non-null object\n",
      "orig_state           7004953 non-null object\n",
      "orig_country         7009728 non-null object\n",
      "orig_lat             7009728 non-null float64\n",
      "orig_long            7009728 non-null float64\n",
      "dest_airport         7009728 non-null object\n",
      "dest_city            7004954 non-null object\n",
      "dest_state           7004954 non-null object\n",
      "dest_country         7009728 non-null object\n",
      "dest_lat             7009728 non-null float64\n",
      "dest_long            7009728 non-null float64\n",
      "Airline              7009728 non-null object\n",
      "dtypes: float64(13), int64(10), object(13)\n",
      "memory usage: 1.9+ GB\n"
     ]
    }
   ],
   "source": [
    "df08clean.info()"
   ]
  },
  {
   "cell_type": "markdown",
   "metadata": {
    "slideshow": {
     "slide_type": "skip"
    }
   },
   "source": [
    "#### Define:\n",
    "Drop rows with null values.\n",
    "\n",
    "#### Code:"
   ]
  },
  {
   "cell_type": "code",
   "execution_count": 30,
   "metadata": {
    "slideshow": {
     "slide_type": "skip"
    }
   },
   "outputs": [],
   "source": [
    "df98clean.dropna(inplace=True)\n",
    "df08clean.dropna(inplace=True)"
   ]
  },
  {
   "cell_type": "markdown",
   "metadata": {
    "slideshow": {
     "slide_type": "skip"
    }
   },
   "source": [
    "#### Test"
   ]
  },
  {
   "cell_type": "code",
   "execution_count": 31,
   "metadata": {
    "slideshow": {
     "slide_type": "skip"
    }
   },
   "outputs": [
    {
     "name": "stdout",
     "output_type": "stream",
     "text": [
      "<class 'pandas.core.frame.DataFrame'>\n",
      "Int64Index: 5227051 entries, 0 to 5384720\n",
      "Data columns (total 36 columns):\n",
      "Year                 5227051 non-null int64\n",
      "Month                5227051 non-null int64\n",
      "DayofMonth           5227051 non-null int64\n",
      "DayOfWeek            5227051 non-null int64\n",
      "DepTime              5227051 non-null float64\n",
      "CRSDepTime           5227051 non-null int64\n",
      "ArrTime              5227051 non-null float64\n",
      "CRSArrTime           5227051 non-null int64\n",
      "UniqueCarrier        5227051 non-null object\n",
      "FlightNum            5227051 non-null int64\n",
      "TailNum              5227051 non-null object\n",
      "ActualElapsedTime    5227051 non-null float64\n",
      "CRSElapsedTime       5227051 non-null float64\n",
      "AirTime              5227051 non-null float64\n",
      "ArrDelay             5227051 non-null float64\n",
      "DepDelay             5227051 non-null float64\n",
      "Origin               5227051 non-null object\n",
      "Dest                 5227051 non-null object\n",
      "Distance             5227051 non-null int64\n",
      "TaxiIn               5227051 non-null int64\n",
      "TaxiOut              5227051 non-null int64\n",
      "Cancelled            5227051 non-null int64\n",
      "Diverted             5227051 non-null int64\n",
      "orig_airport         5227051 non-null object\n",
      "orig_city            5227051 non-null object\n",
      "orig_state           5227051 non-null object\n",
      "orig_country         5227051 non-null object\n",
      "orig_lat             5227051 non-null float64\n",
      "orig_long            5227051 non-null float64\n",
      "dest_airport         5227051 non-null object\n",
      "dest_city            5227051 non-null object\n",
      "dest_state           5227051 non-null object\n",
      "dest_country         5227051 non-null object\n",
      "dest_lat             5227051 non-null float64\n",
      "dest_long            5227051 non-null float64\n",
      "Airline              5227051 non-null object\n",
      "dtypes: float64(11), int64(12), object(13)\n",
      "memory usage: 1.4+ GB\n"
     ]
    }
   ],
   "source": [
    "df98clean.info()"
   ]
  },
  {
   "cell_type": "code",
   "execution_count": 32,
   "metadata": {
    "slideshow": {
     "slide_type": "skip"
    }
   },
   "outputs": [
    {
     "name": "stdout",
     "output_type": "stream",
     "text": [
      "<class 'pandas.core.frame.DataFrame'>\n",
      "Int64Index: 6845792 entries, 0 to 7009727\n",
      "Data columns (total 36 columns):\n",
      "Year                 6845792 non-null int64\n",
      "Month                6845792 non-null int64\n",
      "DayofMonth           6845792 non-null int64\n",
      "DayOfWeek            6845792 non-null int64\n",
      "DepTime              6845792 non-null float64\n",
      "CRSDepTime           6845792 non-null int64\n",
      "ArrTime              6845792 non-null float64\n",
      "CRSArrTime           6845792 non-null int64\n",
      "UniqueCarrier        6845792 non-null object\n",
      "FlightNum            6845792 non-null int64\n",
      "TailNum              6845792 non-null object\n",
      "ActualElapsedTime    6845792 non-null float64\n",
      "CRSElapsedTime       6845792 non-null float64\n",
      "AirTime              6845792 non-null float64\n",
      "ArrDelay             6845792 non-null float64\n",
      "DepDelay             6845792 non-null float64\n",
      "Origin               6845792 non-null object\n",
      "Dest                 6845792 non-null object\n",
      "Distance             6845792 non-null int64\n",
      "TaxiIn               6845792 non-null float64\n",
      "TaxiOut              6845792 non-null float64\n",
      "Cancelled            6845792 non-null int64\n",
      "Diverted             6845792 non-null int64\n",
      "orig_airport         6845792 non-null object\n",
      "orig_city            6845792 non-null object\n",
      "orig_state           6845792 non-null object\n",
      "orig_country         6845792 non-null object\n",
      "orig_lat             6845792 non-null float64\n",
      "orig_long            6845792 non-null float64\n",
      "dest_airport         6845792 non-null object\n",
      "dest_city            6845792 non-null object\n",
      "dest_state           6845792 non-null object\n",
      "dest_country         6845792 non-null object\n",
      "dest_lat             6845792 non-null float64\n",
      "dest_long            6845792 non-null float64\n",
      "Airline              6845792 non-null object\n",
      "dtypes: float64(13), int64(10), object(13)\n",
      "memory usage: 1.9+ GB\n"
     ]
    }
   ],
   "source": [
    "df08clean.info()"
   ]
  },
  {
   "cell_type": "code",
   "execution_count": 33,
   "metadata": {
    "slideshow": {
     "slide_type": "skip"
    }
   },
   "outputs": [],
   "source": [
    "df08clean.to_csv('clean_2008.csv')\n",
    "df98clean.to_csv('clean_1998.csv')"
   ]
  },
  {
   "cell_type": "markdown",
   "metadata": {
    "slideshow": {
     "slide_type": "skip"
    }
   },
   "source": [
    "Now I will free up some memory by getting rid of earlier dataframes"
   ]
  },
  {
   "cell_type": "code",
   "execution_count": 34,
   "metadata": {
    "slideshow": {
     "slide_type": "skip"
    }
   },
   "outputs": [],
   "source": [
    "del [[df1998,df2008]]\n",
    "import gc\n",
    "gc.collect()\n",
    "df1998 = pd.DataFrame()\n",
    "df2008 = pd.DataFrame()"
   ]
  },
  {
   "cell_type": "markdown",
   "metadata": {
    "slideshow": {
     "slide_type": "skip"
    }
   },
   "source": [
    "## Univariate Exploration\n",
    "\n",
    "Has the number of flights changed over time?"
   ]
  },
  {
   "cell_type": "code",
   "execution_count": 35,
   "metadata": {
    "slideshow": {
     "slide_type": "skip"
    }
   },
   "outputs": [
    {
     "name": "stdout",
     "output_type": "stream",
     "text": [
      "5227051 6845792\n"
     ]
    }
   ],
   "source": [
    "flights08 = len(df08clean)\n",
    "flights98 = len(df98clean)\n",
    "print(flights98,flights08)"
   ]
  },
  {
   "cell_type": "markdown",
   "metadata": {
    "slideshow": {
     "slide_type": "skip"
    }
   },
   "source": [
    "Not surprising that there was an increase in the number of flights over the decade.\n",
    "\n",
    "Let's look at the change in market share over the decade in question"
   ]
  },
  {
   "cell_type": "code",
   "execution_count": 36,
   "metadata": {
    "slideshow": {
     "slide_type": "skip"
    }
   },
   "outputs": [
    {
     "data": {
      "text/plain": [
       "Southwest Airlines Co.                                                                 0.173378\n",
       "American Airlines Inc.                                                                 0.085525\n",
       "Skywest Airlines Inc.                                                                  0.080189\n",
       "American Eagle Airlines Inc.                                                           0.068551\n",
       "US Airways Inc. (Merged with America West 9/05. Reporting for both starting 10/07.)    0.065162\n",
       "Delta Air Lines Inc.                                                                   0.064848\n",
       "United Air Lines Inc.                                                                  0.063978\n",
       "Expressjet Airlines Inc.                                                               0.053086\n",
       "Northwest Airlines Inc.                                                                0.050266\n",
       "Continental Air Lines Inc.                                                             0.042925\n",
       "Atlantic Southeast Airlines                                                            0.039887\n",
       "AirTran Airways Corporation                                                            0.037792\n",
       "Pinnacle Airlines Inc.                                                                 0.037009\n",
       "Mesa Airlines Inc.                                                                     0.035796\n",
       "JetBlue Airways                                                                        0.028063\n",
       "Comair Inc.                                                                            0.027849\n",
       "Alaska Airlines Inc.                                                                   0.021691\n",
       "Frontier Airlines Inc.                                                                 0.013933\n",
       "Hawaiian Airlines Inc.                                                                 0.008942\n",
       "Aloha Airlines Inc.                                                                    0.001132\n",
       "Name: Airline, dtype: float64"
      ]
     },
     "execution_count": 36,
     "metadata": {},
     "output_type": "execute_result"
    }
   ],
   "source": [
    "df08clean.Airline.value_counts()/flights08"
   ]
  },
  {
   "cell_type": "code",
   "execution_count": 37,
   "metadata": {
    "slideshow": {
     "slide_type": "skip"
    }
   },
   "outputs": [
    {
     "data": {
      "text/plain": [
       "Delta Air Lines Inc.                                                                   0.171475\n",
       "Southwest Airlines Co.                                                                 0.153930\n",
       "United Air Lines Inc.                                                                  0.138890\n",
       "US Airways Inc. (Merged with America West 9/05. Reporting for both starting 10/07.)    0.129537\n",
       "American Airlines Inc.                                                                 0.121938\n",
       "Northwest Airlines Inc.                                                                0.092168\n",
       "Continental Air Lines Inc.                                                             0.074770\n",
       "Trans World Airways LLC                                                                0.051023\n",
       "America West Airlines Inc. (Merged with US Airways 9/05. Stopped reporting 10/07.)     0.037922\n",
       "Alaska Airlines Inc.                                                                   0.028349\n",
       "Name: Airline, dtype: float64"
      ]
     },
     "execution_count": 37,
     "metadata": {},
     "output_type": "execute_result"
    }
   ],
   "source": [
    "df98clean.Airline.value_counts()/flights98"
   ]
  },
  {
   "cell_type": "code",
   "execution_count": 38,
   "metadata": {
    "slideshow": {
     "slide_type": "skip"
    }
   },
   "outputs": [
    {
     "name": "stdout",
     "output_type": "stream",
     "text": [
      "0.17337818619087464 0.1714750822213137\n"
     ]
    }
   ],
   "source": [
    "max08 = (df08clean.Airline.value_counts()/len(df08clean)).max()\n",
    "max98 = (df98clean.Airline.value_counts()/len(df98clean)).max()\n",
    "print(max08,max98)"
   ]
  },
  {
   "cell_type": "code",
   "execution_count": 98,
   "metadata": {
    "slideshow": {
     "slide_type": "slide"
    }
   },
   "outputs": [
    {
     "data": {
      "image/png": "[encoded data removed]",
      "text/plain": [
       "<Figure size 432x288 with 1 Axes>"
      ]
     },
     "metadata": {
      "needs_background": "light"
     },
     "output_type": "display_data"
    }
   ],
   "source": [
    "ticks98 = np.arange(0,max98+.05, .05)\n",
    "tnames98 = ['{:0.2f}'.format(i) for i in ticks98]\n",
    "airline_order = (df98clean.Airline.value_counts()).index\n",
    "ytnames98 = ['Delta','Southwest','United','US Air','American','Northwest',\n",
    "                'Continental','TWA','America West','Alaska']\n",
    "sb.countplot(data=df98clean,y='Airline',order=(df98clean.Airline.value_counts()).index,color=sb.color_palette()[5])\n",
    "plt.xticks(ticks98*flights98,tnames98)\n",
    "plt.yticks(np.arange(10),ytnames98)\n",
    "#plt.set(yticklabels = )\n",
    "plt.title('Market Share of US Airlines in 1998')\n",
    "plt.xlabel('Market Share');\n"
   ]
  },
  {
   "cell_type": "code",
   "execution_count": 67,
   "metadata": {
    "slideshow": {
     "slide_type": "subslide"
    }
   },
   "outputs": [
    {
     "data": {
      "image/png": "[encoded data removed]",
      "text/plain": [
       "<Figure size 432x288 with 1 Axes>"
      ]
     },
     "metadata": {
      "needs_background": "light"
     },
     "output_type": "display_data"
    }
   ],
   "source": [
    "ticks08 = np.arange(0,max08+.05, .05)\n",
    "tnames08 = ['{:0.2f}'.format(i) for i in ticks08]\n",
    "ytnames08 = ['Southwest','American','Skywest','American Eagle','US Air','Delta','United','Expressjet','Northwest',\n",
    "            'Continental','Atlantic Southeast','AirTran','Pinnacle','Mesa','JetBlue','Comair','Alaska',\n",
    "            'Frontier','Hawaiian','Aloha']\n",
    "airline_order = (df08clean.Airline.value_counts()).index\n",
    "sb.countplot(data=df08clean,y='Airline',order=(df08clean.Airline.value_counts()).index,color=sb.color_palette()[5])\n",
    "plt.xticks(ticks08*flights08,tnames08)\n",
    "plt.yticks(np.arange(20),ytnames08)\n",
    "plt.title('Market Share of US Airlines in 2008')\n",
    "plt.xlabel('Market Share');\n"
   ]
  },
  {
   "cell_type": "code",
   "execution_count": 68,
   "metadata": {
    "slideshow": {
     "slide_type": "skip"
    }
   },
   "outputs": [
    {
     "name": "stdout",
     "output_type": "stream",
     "text": [
      "10 20\n"
     ]
    }
   ],
   "source": [
    "numcar98 = len(df98clean.Airline.unique())\n",
    "numcar08 = len(df08clean.Airline.unique())\n",
    "print( numcar98,numcar08)"
   ]
  },
  {
   "cell_type": "markdown",
   "metadata": {
    "slideshow": {
     "slide_type": "subslide"
    }
   },
   "source": [
    "Over the decade from 1998 to 2008 Southwest became the largest airline, increasing their market share from 15.1% to 17.1%. More interestingly, market share became much less evenly distributed. With the entry of 10 more airlines* and Southwest slightly increasing their share, the other major airlines in 1998 all lost significantly.\n",
    "\n",
    "\\* This might be a change in airlines reporting into the system, rather than an actual increase in airlines\n",
    "\n",
    "Now lets look at overall delays."
   ]
  },
  {
   "cell_type": "code",
   "execution_count": 69,
   "metadata": {
    "slideshow": {
     "slide_type": "skip"
    }
   },
   "outputs": [
    {
     "data": {
      "image/png": "[encoded data removed]",
      "text/plain": [
       "<Figure size 432x288 with 2 Axes>"
      ]
     },
     "metadata": {
      "needs_background": "light"
     },
     "output_type": "display_data"
    }
   ],
   "source": [
    "dbins = np.arange(df08clean.ArrDelay.min(),df08clean.ArrDelay.max(),5)\n",
    "f, axes = plt.subplots(1,2,sharex='all',sharey='all')\n",
    "sb.distplot(df98clean.ArrDelay,ax=axes[0],kde=False,bins=dbins)\n",
    "sb.distplot(df08clean.ArrDelay, ax=axes[1],kde=False,bins=dbins)\n",
    "f.text(0.5,0,'Arrival Delay in Minutes',ha='center')\n",
    "axes[0].set_xlabel('')\n",
    "axes[0].set_ylabel('Number of Delayed Flights')\n",
    "axes[0].set_title('Delays 1998')\n",
    "axes[1].set_title('Delays 2008');\n"
   ]
  },
  {
   "cell_type": "code",
   "execution_count": 71,
   "metadata": {
    "slideshow": {
     "slide_type": "slide"
    }
   },
   "outputs": [
    {
     "data": {
      "image/png": "[encoded data removed]",
      "text/plain": [
       "<Figure size 432x288 with 2 Axes>"
      ]
     },
     "metadata": {
      "needs_background": "light"
     },
     "output_type": "display_data"
    }
   ],
   "source": [
    "f, axes = plt.subplots(1,2,sharex='all',sharey='all')\n",
    "sb.distplot(df98clean.ArrDelay,ax=axes[0],kde=False,bins=dbins)\n",
    "sb.distplot(df08clean.ArrDelay, ax=axes[1],kde=False,bins=dbins)\n",
    "f.text(0.5,0,'Arrival Delay in Minutes',ha='center')\n",
    "plt.xlim(-100,200)\n",
    "axes[0].set_xlabel('')\n",
    "axes[0].set_ylabel('Number of Delayed Flights')\n",
    "axes[0].set_title('Delays 1998')\n",
    "axes[1].set_title('Delays 2008');"
   ]
  },
  {
   "cell_type": "markdown",
   "metadata": {
    "slideshow": {
     "slide_type": "subslide"
    }
   },
   "source": [
    "\n",
    "### Discuss the distribution(s) of your variable(s) of interest. Were there any unusual points? Did you need to perform any transformations?\n",
    "\n",
    "> The shape of the delay distributions has remained the same over the decade from 1998-2008. This indicates that there have been no major, structural changes that have significantly improved or worsened delays in that decade.\n",
    "\n",
    "### Of the features you investigated, were there any unusual distributions? Did you perform any operations on the data to tidy, adjust, or change the form of the data? If so, why did you do this?\n",
    "\n",
    "> There were no unusual distributions identified."
   ]
  },
  {
   "cell_type": "markdown",
   "metadata": {
    "slideshow": {
     "slide_type": "skip"
    }
   },
   "source": [
    "## Bivariate Exploration\n",
    "\n",
    "> In this section, investigate relationships between pairs of variables in your\n",
    "data. Make sure the variables that you cover here have been introduced in some\n",
    "fashion in the previous section (univariate exploration)."
   ]
  },
  {
   "cell_type": "code",
   "execution_count": 97,
   "metadata": {
    "slideshow": {
     "slide_type": "slide"
    }
   },
   "outputs": [
    {
     "data": {
      "image/png": "[encoded data removed]",
      "text/plain": [
       "<Figure size 720x576 with 1 Axes>"
      ]
     },
     "metadata": {
      "needs_background": "light"
     },
     "output_type": "display_data"
    }
   ],
   "source": [
    "# carrier_delay98 = df98clean.groupby(['Airline'])['ArrDelay'].mean().reset_index().rename(columns={0:'avg_delay'})\n",
    "delay_order = carrier_delay98.sort_values('ArrDelay', ascending=False)\n",
    "plt.figure(figsize=[10,8])\n",
    "base_color= sb.color_palette()[5]\n",
    "sb.barplot(data= delay_order, x='Airline', y='ArrDelay', color=base_color,)\n",
    "plt.xticks(np.arange(10), ('America West','Alaska','United','Northwest','Continental','TWA','Southwest','US Air','Delta','American'), rotation=90, fontsize = 12)\n",
    "plt.ylabel('Average Delay')\n",
    "plt.title('Average Delays by Carrier 1998');"
   ]
  },
  {
   "cell_type": "code",
   "execution_count": 95,
   "metadata": {
    "slideshow": {
     "slide_type": "subslide"
    }
   },
   "outputs": [
    {
     "data": {
      "image/png": "[encoded data removed]",
      "text/plain": [
       "<Figure size 720x576 with 1 Axes>"
      ]
     },
     "metadata": {
      "needs_background": "light"
     },
     "output_type": "display_data"
    }
   ],
   "source": [
    "carrier_delay = df08clean.groupby(['Airline'])['ArrDelay'].mean().reset_index().rename(columns={0:'avg_delay'})\n",
    "delay_order = carrier_delay.sort_values('ArrDelay', ascending=False)\n",
    "plt.figure(figsize=[10,8])\n",
    "base_color= sb.color_palette()[5]\n",
    "sb.barplot(data= delay_order, x='Airline', y='ArrDelay', color=base_color)\n",
    "plt.xticks(np.arange(20), ('American','Comair','Mesa','United','JetBlue','Continental','Expressjet','Atlantic Southeast',\n",
    "                           'American Eagle','AirTran','Delta','Northwest','Skywest','Frontier','Southwest','Alaska','Pinnacle',\n",
    "                           'US Air','Hawaiian','Aloha'), rotation=90, fontsize = 12)\n",
    "plt.ylabel('Average Delay')\n",
    "plt.title('Average Delays by Carrier 2008');"
   ]
  },
  {
   "cell_type": "markdown",
   "metadata": {
    "slideshow": {
     "slide_type": "subslide"
    }
   },
   "source": [
    "### Talk about some of the relationships you observed in this part of the investigation. How did the feature(s) of interest vary with other features in the dataset?\n",
    "\n",
    "> American Airlines went from having the best on-time record in 1998 to having the worst in 2008. That said, no airline in 2008 had average delays worse than the worst airline in 1998."
   ]
  },
  {
   "cell_type": "markdown",
   "metadata": {
    "slideshow": {
     "slide_type": "skip"
    }
   },
   "source": [
    "## Multivariate Exploration"
   ]
  },
  {
   "cell_type": "code",
   "execution_count": 91,
   "metadata": {
    "slideshow": {
     "slide_type": "skip"
    }
   },
   "outputs": [],
   "source": [
    "# There is an excellent tutorial on predicting flight delays at kaggle.\n",
    "# https://www.kaggle.com/fabiendaniel/predicting-flight-delays-tutorial/notebook\n",
    "# Group using function: no delay <= 10 minutes, medium delay >10 but < 1 hour, long delay > 1 hour\n",
    "delay = lambda x: ((0,1)[x>10],2)[x>60]\n",
    "df98clean['delay'] = df98clean['ArrDelay'].apply(delay)"
   ]
  },
  {
   "cell_type": "code",
   "execution_count": 92,
   "metadata": {
    "slideshow": {
     "slide_type": "slide"
    }
   },
   "outputs": [
    {
     "data": {
      "image/png": "[encoded data removed]",
      "text/plain": [
       "<Figure size 720x504 with 1 Axes>"
      ]
     },
     "metadata": {
      "needs_background": "light"
     },
     "output_type": "display_data"
    }
   ],
   "source": [
    "fig = plt.figure(1,figsize=(10,7))\n",
    "ax = sb.countplot(y='Airline', hue= 'delay', data= df98clean)\n",
    "ax.yaxis.label.set_visible(False)\n",
    "plt.xlabel('Flights', fontsize=14, weight = 'bold')\n",
    "plt.xticks([0, 2e5, 4e5, 6e5, 8e5], ['0', '200K', '400K', '600K', '800K'])\n",
    "plt.setp(ax.get_yticklabels(), fontsize=12, weight = 'bold');\n",
    "fig.suptitle('On time records of Carriers 1998',fontsize=16)\n",
    "ax.set_yticklabels({'Southwest','America West','Continental','US Air','Delta','United','American','Northwest','Alaska','TWA'})\n",
    "legend = plt.legend()\n",
    "legend.get_texts()[0].set_text('on time (t < 10 min)')\n",
    "legend.get_texts()[1].set_text('small delay (1- < t < 60 min)')\n",
    "legend.get_texts()[2].set_text('large delay (t > 60 min)')"
   ]
  },
  {
   "cell_type": "code",
   "execution_count": 93,
   "metadata": {
    "slideshow": {
     "slide_type": "skip"
    }
   },
   "outputs": [],
   "source": [
    "delay08 = lambda x: ((0,1)[x>10],2)[x>60]\n",
    "df08clean['delay'] = df08clean['ArrDelay'].apply(delay08)"
   ]
  },
  {
   "cell_type": "code",
   "execution_count": 94,
   "metadata": {
    "slideshow": {
     "slide_type": "subslide"
    }
   },
   "outputs": [
    {
     "data": {
      "image/png": "[encoded data removed]",
      "text/plain": [
       "<Figure size 720x504 with 1 Axes>"
      ]
     },
     "metadata": {
      "needs_background": "light"
     },
     "output_type": "display_data"
    }
   ],
   "source": [
    "fig = plt.figure(1, figsize=(10,7))\n",
    "ax = sb.countplot(y='Airline', hue= 'delay', data= df08clean)\n",
    "ax.yaxis.label.set_visible(False)\n",
    "plt.xlabel('Flights', fontsize=14, weight = 'bold')\n",
    "plt.xticks([0, 2e5, 4e5, 6e5, 8e5,1e6], ['0', '200K', '400K', '600K', '800K','1M'])\n",
    "plt.setp(ax.get_yticklabels(), fontsize=12, weight = 'bold');\n",
    "fig.suptitle('On time records of Carriers 2008',fontsize=16)\n",
    "yticks = [item.get_text() for item in ax.get_yticklabels()]\n",
    "yticks = ['Southwest','Expressjet','Mesa','Comair','Skywest','United','US Airways','Delta','Atlantic Southeast','Frontier',\n",
    "          'AirTran','Hawaiian','American Eagle','Northwest','Pinnacle','American','Aloha','Alaska','JetBlue','Continental']\n",
    "ax.set_yticklabels(yticks)\n",
    "legend = plt.legend()\n",
    "legend.get_texts()[0].set_text('on time (t < 10 min)')\n",
    "legend.get_texts()[1].set_text('small delay (1- < t < 60 min)')\n",
    "legend.get_texts()[2].set_text('large delay (t > 60 min)')\n",
    "plt.show()"
   ]
  },
  {
   "cell_type": "markdown",
   "metadata": {
    "slideshow": {
     "slide_type": "slide"
    }
   },
   "source": [
    "## Summary of Findings\n",
    "\n",
    "### Market Share\n",
    "Southwest airlines moved from second place to first in market share between the years 1998 and 2008. Their actual market share only increased by ~2%, while the other airlines' shares in the market were eroded by the entrance of many \"new\" airlines. Note: this may be due to more airlines voluntarily sharing their information in 2008 rather than a real entrance of 10 new airlines in the intervening decade.\n",
    "\n",
    "### Overall On-Time records\n",
    "There was not a big change in the worst on-time record between 1998 and 2008, although American Airlines has the dubious distinction of having the best record in 1998 and dropping to the worst by 2008. The data also show that Hawaii is a good destination if your goal is to arrive on time, with Hawaiian Air and Aloha Air having the best records in 2008.\n",
    "\n",
    "### On-time vs small delay vs long delay\n",
    "Southwest went from being tied for 3rd in 1998 to being the airline with the best record (least long elays relative to numbers of flights) of the largest carriers.\n",
    "\n",
    "## Key Insights\n",
    "\n",
    "Fly Southwest. Go to Hawaii. Overall, this dataset is rich and would allow for a lot of good analyis. For example: looking at which airports are best for on time arrivals, or which whether on-time odds are better for short or long flights. The 2008 data set would allow analysis of which delay causes result in the longest delays. The 1998 dataset does not contain this data.\n",
    "\n",
    "Overall, while individual airlines' records changed over the decade, flight delays have not significantly increased or decreased."
   ]
  }
 ],
 "metadata": {
  "celltoolbar": "Slideshow",
  "kernelspec": {
   "display_name": "Python 3",
   "language": "python",
   "name": "python3"
  },
  "language_info": {
   "codemirror_mode": {
    "name": "ipython",
    "version": 3
   },
   "file_extension": ".py",
   "mimetype": "text/x-python",
   "name": "python",
   "nbconvert_exporter": "python",
   "pygments_lexer": "ipython3",
   "version": "3.6.6"
  }
 },
 "nbformat": 4,
 "nbformat_minor": 2
}
